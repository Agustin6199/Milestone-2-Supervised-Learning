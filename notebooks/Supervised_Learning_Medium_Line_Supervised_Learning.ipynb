{
  "nbformat": 4,
  "nbformat_minor": 0,
  "metadata": {
    "colab": {
      "name": "Supervised Learning: Medium Line - Supervised Learning.ipynb",
      "provenance": [],
      "collapsed_sections": [],
      "toc_visible": true
    },
    "kernelspec": {
      "name": "python3",
      "display_name": "Python 3"
    }
  },
  "cells": [
    {
      "cell_type": "markdown",
      "metadata": {
        "id": "YlaR4ggidvnD"
      },
      "source": [
        "# Supervised Learning - Machine Learning 2020\r\n",
        "## Dengue\r\n",
        "### Group AA\r\n",
        "\r\n"
      ]
    },
    {
      "cell_type": "markdown",
      "metadata": {
        "id": "cuFaWw66dvqU"
      },
      "source": [
        "##  Libraries and tools"
      ]
    },
    {
      "cell_type": "markdown",
      "metadata": {
        "id": "545wuCKKhT2g"
      },
      "source": [
        "Import the libraries and tools needed to carry out our tasks"
      ]
    },
    {
      "cell_type": "code",
      "metadata": {
        "id": "SyVehT2Fd7Vx"
      },
      "source": [
        "# Data load and manipulation\r\n",
        "from google.colab import files\r\n",
        "import io\r\n",
        "from datetime import datetime\r\n",
        "\r\n",
        "# DataFrame librery\r\n",
        "import pandas as pd\r\n",
        "\r\n",
        "# Visualization \r\n",
        "import matplotlib.pyplot as plt\r\n",
        "import seaborn as sns\r\n",
        "import plotly.express as px\r\n",
        "from tabulate import tabulate\r\n",
        "\r\n",
        "# Basic Operations\r\n",
        "import numpy as np\r\n",
        "from numpy import corrcoef, transpose\r\n",
        "import itertools\r\n",
        "from math import pi, sin, cos\r\n",
        "from scipy.stats import randint as sp_randint\r\n",
        "\r\n",
        "# Prepocessing\r\n",
        "from sklearn import preprocessing \r\n",
        "from sklearn.impute import KNNImputer\r\n",
        "from sklearn.preprocessing import MinMaxScaler\r\n",
        "\r\n",
        "# Models\r\n",
        "from sklearn.feature_selection import SelectPercentile, f_regression\r\n",
        "from sklearn.ensemble import RandomForestRegressor\r\n",
        "from sklearn import neighbors\r\n",
        "from sklearn.model_selection import TimeSeriesSplit, GridSearchCV, RandomizedSearchCV, ShuffleSplit\r\n",
        "from sklearn.metrics import mean_absolute_error"
      ],
      "execution_count": null,
      "outputs": []
    },
    {
      "cell_type": "markdown",
      "metadata": {
        "id": "MmqCUaKOdvtm"
      },
      "source": [
        "## Data loading"
      ]
    },
    {
      "cell_type": "markdown",
      "metadata": {
        "id": "2mE7lAo8he21"
      },
      "source": [
        "We define a method to perform the data load"
      ]
    },
    {
      "cell_type": "code",
      "metadata": {
        "id": "wRfGH8trd_w5"
      },
      "source": [
        "def upload_files (index_fields):\r\n",
        "  uploaded = files.upload()\r\n",
        "  for fn in uploaded.keys():\r\n",
        "    print('User uploaded file \"{name}\" with length {length} bytes'.format(\r\n",
        "        name=fn, length=len(uploaded[fn])))\r\n",
        "    df = pd.read_csv(io.StringIO(uploaded[fn].decode('utf-8')), index_col = index_fields)\r\n",
        "    return df"
      ],
      "execution_count": null,
      "outputs": []
    },
    {
      "cell_type": "markdown",
      "metadata": {
        "id": "8HKasjWmdvyy"
      },
      "source": [
        "Load training dataset features (dengue_features_train)"
      ]
    },
    {
      "cell_type": "code",
      "metadata": {
        "id": "hqTLPO7SjibD",
        "colab": {
          "resources": {
            "http://localhost:8080/nbextensions/google.colab/files.js": {
              "data": "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",
              "ok": true,
              "headers": [
                [
                  "content-type",
                  "application/javascript"
                ]
              ],
              "status": 200,
              "status_text": ""
            }
          },
          "base_uri": "https://localhost:8080/",
          "height": 344
        },
        "outputId": "1c4f874a-c40d-4358-f3b0-ab7a4054b11c"
      },
      "source": [
        "print(\"Please, upload 'dengue_features_train' file\")\r\n",
        "X_train = upload_files(['city', 'weekofyear', 'year'])\r\n",
        "X_train.head()"
      ],
      "execution_count": null,
      "outputs": [
        {
          "output_type": "stream",
          "text": [
            "Please, upload 'dengue_features_train' file\n"
          ],
          "name": "stdout"
        },
        {
          "output_type": "display_data",
          "data": {
            "text/html": [
              "\n",
              "     <input type=\"file\" id=\"files-364585ad-0efb-4981-8ae9-dd63a42a7bf0\" name=\"files[]\" multiple disabled\n",
              "        style=\"border:none\" />\n",
              "     <output id=\"result-364585ad-0efb-4981-8ae9-dd63a42a7bf0\">\n",
              "      Upload widget is only available when the cell has been executed in the\n",
              "      current browser session. Please rerun this cell to enable.\n",
              "      </output>\n",
              "      <script src=\"/nbextensions/google.colab/files.js\"></script> "
            ],
            "text/plain": [
              "<IPython.core.display.HTML object>"
            ]
          },
          "metadata": {
            "tags": []
          }
        },
        {
          "output_type": "stream",
          "text": [
            "Saving dengue_features_train.csv to dengue_features_train.csv\n",
            "User uploaded file \"dengue_features_train.csv\" with length 287139 bytes\n"
          ],
          "name": "stdout"
        },
        {
          "output_type": "execute_result",
          "data": {
            "text/html": [
              "<div>\n",
              "<style scoped>\n",
              "    .dataframe tbody tr th:only-of-type {\n",
              "        vertical-align: middle;\n",
              "    }\n",
              "\n",
              "    .dataframe tbody tr th {\n",
              "        vertical-align: top;\n",
              "    }\n",
              "\n",
              "    .dataframe thead th {\n",
              "        text-align: right;\n",
              "    }\n",
              "</style>\n",
              "<table border=\"1\" class=\"dataframe\">\n",
              "  <thead>\n",
              "    <tr style=\"text-align: right;\">\n",
              "      <th></th>\n",
              "      <th></th>\n",
              "      <th></th>\n",
              "      <th>week_start_date</th>\n",
              "      <th>ndvi_ne</th>\n",
              "      <th>ndvi_nw</th>\n",
              "      <th>ndvi_se</th>\n",
              "      <th>ndvi_sw</th>\n",
              "      <th>precipitation_amt_mm</th>\n",
              "      <th>reanalysis_air_temp_k</th>\n",
              "      <th>reanalysis_avg_temp_k</th>\n",
              "      <th>reanalysis_dew_point_temp_k</th>\n",
              "      <th>reanalysis_max_air_temp_k</th>\n",
              "      <th>reanalysis_min_air_temp_k</th>\n",
              "      <th>reanalysis_precip_amt_kg_per_m2</th>\n",
              "      <th>reanalysis_relative_humidity_percent</th>\n",
              "      <th>reanalysis_sat_precip_amt_mm</th>\n",
              "      <th>reanalysis_specific_humidity_g_per_kg</th>\n",
              "      <th>reanalysis_tdtr_k</th>\n",
              "      <th>station_avg_temp_c</th>\n",
              "      <th>station_diur_temp_rng_c</th>\n",
              "      <th>station_max_temp_c</th>\n",
              "      <th>station_min_temp_c</th>\n",
              "      <th>station_precip_mm</th>\n",
              "    </tr>\n",
              "    <tr>\n",
              "      <th>city</th>\n",
              "      <th>weekofyear</th>\n",
              "      <th>year</th>\n",
              "      <th></th>\n",
              "      <th></th>\n",
              "      <th></th>\n",
              "      <th></th>\n",
              "      <th></th>\n",
              "      <th></th>\n",
              "      <th></th>\n",
              "      <th></th>\n",
              "      <th></th>\n",
              "      <th></th>\n",
              "      <th></th>\n",
              "      <th></th>\n",
              "      <th></th>\n",
              "      <th></th>\n",
              "      <th></th>\n",
              "      <th></th>\n",
              "      <th></th>\n",
              "      <th></th>\n",
              "      <th></th>\n",
              "      <th></th>\n",
              "      <th></th>\n",
              "    </tr>\n",
              "  </thead>\n",
              "  <tbody>\n",
              "    <tr>\n",
              "      <th rowspan=\"5\" valign=\"top\">sj</th>\n",
              "      <th>18</th>\n",
              "      <th>1990</th>\n",
              "      <td>1990-04-30</td>\n",
              "      <td>0.122600</td>\n",
              "      <td>0.103725</td>\n",
              "      <td>0.198483</td>\n",
              "      <td>0.177617</td>\n",
              "      <td>12.42</td>\n",
              "      <td>297.572857</td>\n",
              "      <td>297.742857</td>\n",
              "      <td>292.414286</td>\n",
              "      <td>299.8</td>\n",
              "      <td>295.9</td>\n",
              "      <td>32.00</td>\n",
              "      <td>73.365714</td>\n",
              "      <td>12.42</td>\n",
              "      <td>14.012857</td>\n",
              "      <td>2.628571</td>\n",
              "      <td>25.442857</td>\n",
              "      <td>6.900000</td>\n",
              "      <td>29.4</td>\n",
              "      <td>20.0</td>\n",
              "      <td>16.0</td>\n",
              "    </tr>\n",
              "    <tr>\n",
              "      <th>19</th>\n",
              "      <th>1990</th>\n",
              "      <td>1990-05-07</td>\n",
              "      <td>0.169900</td>\n",
              "      <td>0.142175</td>\n",
              "      <td>0.162357</td>\n",
              "      <td>0.155486</td>\n",
              "      <td>22.82</td>\n",
              "      <td>298.211429</td>\n",
              "      <td>298.442857</td>\n",
              "      <td>293.951429</td>\n",
              "      <td>300.9</td>\n",
              "      <td>296.4</td>\n",
              "      <td>17.94</td>\n",
              "      <td>77.368571</td>\n",
              "      <td>22.82</td>\n",
              "      <td>15.372857</td>\n",
              "      <td>2.371429</td>\n",
              "      <td>26.714286</td>\n",
              "      <td>6.371429</td>\n",
              "      <td>31.7</td>\n",
              "      <td>22.2</td>\n",
              "      <td>8.6</td>\n",
              "    </tr>\n",
              "    <tr>\n",
              "      <th>20</th>\n",
              "      <th>1990</th>\n",
              "      <td>1990-05-14</td>\n",
              "      <td>0.032250</td>\n",
              "      <td>0.172967</td>\n",
              "      <td>0.157200</td>\n",
              "      <td>0.170843</td>\n",
              "      <td>34.54</td>\n",
              "      <td>298.781429</td>\n",
              "      <td>298.878571</td>\n",
              "      <td>295.434286</td>\n",
              "      <td>300.5</td>\n",
              "      <td>297.3</td>\n",
              "      <td>26.10</td>\n",
              "      <td>82.052857</td>\n",
              "      <td>34.54</td>\n",
              "      <td>16.848571</td>\n",
              "      <td>2.300000</td>\n",
              "      <td>26.714286</td>\n",
              "      <td>6.485714</td>\n",
              "      <td>32.2</td>\n",
              "      <td>22.8</td>\n",
              "      <td>41.4</td>\n",
              "    </tr>\n",
              "    <tr>\n",
              "      <th>21</th>\n",
              "      <th>1990</th>\n",
              "      <td>1990-05-21</td>\n",
              "      <td>0.128633</td>\n",
              "      <td>0.245067</td>\n",
              "      <td>0.227557</td>\n",
              "      <td>0.235886</td>\n",
              "      <td>15.36</td>\n",
              "      <td>298.987143</td>\n",
              "      <td>299.228571</td>\n",
              "      <td>295.310000</td>\n",
              "      <td>301.4</td>\n",
              "      <td>297.0</td>\n",
              "      <td>13.90</td>\n",
              "      <td>80.337143</td>\n",
              "      <td>15.36</td>\n",
              "      <td>16.672857</td>\n",
              "      <td>2.428571</td>\n",
              "      <td>27.471429</td>\n",
              "      <td>6.771429</td>\n",
              "      <td>33.3</td>\n",
              "      <td>23.3</td>\n",
              "      <td>4.0</td>\n",
              "    </tr>\n",
              "    <tr>\n",
              "      <th>22</th>\n",
              "      <th>1990</th>\n",
              "      <td>1990-05-28</td>\n",
              "      <td>0.196200</td>\n",
              "      <td>0.262200</td>\n",
              "      <td>0.251200</td>\n",
              "      <td>0.247340</td>\n",
              "      <td>7.52</td>\n",
              "      <td>299.518571</td>\n",
              "      <td>299.664286</td>\n",
              "      <td>295.821429</td>\n",
              "      <td>301.9</td>\n",
              "      <td>297.5</td>\n",
              "      <td>12.20</td>\n",
              "      <td>80.460000</td>\n",
              "      <td>7.52</td>\n",
              "      <td>17.210000</td>\n",
              "      <td>3.014286</td>\n",
              "      <td>28.942857</td>\n",
              "      <td>9.371429</td>\n",
              "      <td>35.0</td>\n",
              "      <td>23.9</td>\n",
              "      <td>5.8</td>\n",
              "    </tr>\n",
              "  </tbody>\n",
              "</table>\n",
              "</div>"
            ],
            "text/plain": [
              "                     week_start_date  ...  station_precip_mm\n",
              "city weekofyear year                  ...                   \n",
              "sj   18         1990      1990-04-30  ...               16.0\n",
              "     19         1990      1990-05-07  ...                8.6\n",
              "     20         1990      1990-05-14  ...               41.4\n",
              "     21         1990      1990-05-21  ...                4.0\n",
              "     22         1990      1990-05-28  ...                5.8\n",
              "\n",
              "[5 rows x 21 columns]"
            ]
          },
          "metadata": {
            "tags": []
          },
          "execution_count": 3
        }
      ]
    },
    {
      "cell_type": "markdown",
      "metadata": {
        "id": "CWBG74nij2Lq"
      },
      "source": [
        "Load training dataset labels (dengue_labels_train)"
      ]
    },
    {
      "cell_type": "code",
      "metadata": {
        "colab": {
          "resources": {
            "http://localhost:8080/nbextensions/google.colab/files.js": {
              "data": "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",
              "ok": true,
              "headers": [
                [
                  "content-type",
                  "application/javascript"
                ]
              ],
              "status": 200,
              "status_text": ""
            }
          },
          "base_uri": "https://localhost:8080/",
          "height": 324
        },
        "id": "evZyZzUPjidN",
        "outputId": "d73e0f0c-5d60-47c1-a966-da416b846f6b"
      },
      "source": [
        "print(\"Please, upload 'dengue_labels_train' file\")\r\n",
        "y_train = upload_files(['city', 'weekofyear', 'year'])\r\n",
        "y_train.head()"
      ],
      "execution_count": null,
      "outputs": [
        {
          "output_type": "stream",
          "text": [
            "Please, upload 'dengue_labels_train' file\n"
          ],
          "name": "stdout"
        },
        {
          "output_type": "display_data",
          "data": {
            "text/html": [
              "\n",
              "     <input type=\"file\" id=\"files-cf56cc2d-128a-4d0c-99be-00df0fd1f304\" name=\"files[]\" multiple disabled\n",
              "        style=\"border:none\" />\n",
              "     <output id=\"result-cf56cc2d-128a-4d0c-99be-00df0fd1f304\">\n",
              "      Upload widget is only available when the cell has been executed in the\n",
              "      current browser session. Please rerun this cell to enable.\n",
              "      </output>\n",
              "      <script src=\"/nbextensions/google.colab/files.js\"></script> "
            ],
            "text/plain": [
              "<IPython.core.display.HTML object>"
            ]
          },
          "metadata": {
            "tags": []
          }
        },
        {
          "output_type": "stream",
          "text": [
            "Saving dengue_labels_train.csv to dengue_labels_train.csv\n",
            "User uploaded file \"dengue_labels_train.csv\" with length 19582 bytes\n"
          ],
          "name": "stdout"
        },
        {
          "output_type": "execute_result",
          "data": {
            "text/html": [
              "<div>\n",
              "<style scoped>\n",
              "    .dataframe tbody tr th:only-of-type {\n",
              "        vertical-align: middle;\n",
              "    }\n",
              "\n",
              "    .dataframe tbody tr th {\n",
              "        vertical-align: top;\n",
              "    }\n",
              "\n",
              "    .dataframe thead th {\n",
              "        text-align: right;\n",
              "    }\n",
              "</style>\n",
              "<table border=\"1\" class=\"dataframe\">\n",
              "  <thead>\n",
              "    <tr style=\"text-align: right;\">\n",
              "      <th></th>\n",
              "      <th></th>\n",
              "      <th></th>\n",
              "      <th>total_cases</th>\n",
              "    </tr>\n",
              "    <tr>\n",
              "      <th>city</th>\n",
              "      <th>weekofyear</th>\n",
              "      <th>year</th>\n",
              "      <th></th>\n",
              "    </tr>\n",
              "  </thead>\n",
              "  <tbody>\n",
              "    <tr>\n",
              "      <th rowspan=\"5\" valign=\"top\">sj</th>\n",
              "      <th>18</th>\n",
              "      <th>1990</th>\n",
              "      <td>4</td>\n",
              "    </tr>\n",
              "    <tr>\n",
              "      <th>19</th>\n",
              "      <th>1990</th>\n",
              "      <td>5</td>\n",
              "    </tr>\n",
              "    <tr>\n",
              "      <th>20</th>\n",
              "      <th>1990</th>\n",
              "      <td>4</td>\n",
              "    </tr>\n",
              "    <tr>\n",
              "      <th>21</th>\n",
              "      <th>1990</th>\n",
              "      <td>3</td>\n",
              "    </tr>\n",
              "    <tr>\n",
              "      <th>22</th>\n",
              "      <th>1990</th>\n",
              "      <td>6</td>\n",
              "    </tr>\n",
              "  </tbody>\n",
              "</table>\n",
              "</div>"
            ],
            "text/plain": [
              "                      total_cases\n",
              "city weekofyear year             \n",
              "sj   18         1990            4\n",
              "     19         1990            5\n",
              "     20         1990            4\n",
              "     21         1990            3\n",
              "     22         1990            6"
            ]
          },
          "metadata": {
            "tags": []
          },
          "execution_count": 4
        }
      ]
    },
    {
      "cell_type": "markdown",
      "metadata": {
        "id": "8QxDuEuVj2kj"
      },
      "source": [
        "Load training dataset features (dengue_features_test)"
      ]
    },
    {
      "cell_type": "code",
      "metadata": {
        "colab": {
          "resources": {
            "http://localhost:8080/nbextensions/google.colab/files.js": {
              "data": "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",
              "ok": true,
              "headers": [
                [
                  "content-type",
                  "application/javascript"
                ]
              ],
              "status": 200,
              "status_text": ""
            }
          },
          "base_uri": "https://localhost:8080/",
          "height": 344
        },
        "id": "3HhXAaiKjifj",
        "outputId": "37cb696e-037a-4acf-b614-4b4512ed87fb"
      },
      "source": [
        "print(\"Please, upload 'dengue_features_test' file\")\r\n",
        "X_test = upload_files(['city', 'weekofyear', 'year'])\r\n",
        "X_test.head()"
      ],
      "execution_count": null,
      "outputs": [
        {
          "output_type": "stream",
          "text": [
            "Please, upload 'dengue_features_test' file\n"
          ],
          "name": "stdout"
        },
        {
          "output_type": "display_data",
          "data": {
            "text/html": [
              "\n",
              "     <input type=\"file\" id=\"files-3a818ee6-56de-4cc7-a0d8-f942135e6f96\" name=\"files[]\" multiple disabled\n",
              "        style=\"border:none\" />\n",
              "     <output id=\"result-3a818ee6-56de-4cc7-a0d8-f942135e6f96\">\n",
              "      Upload widget is only available when the cell has been executed in the\n",
              "      current browser session. Please rerun this cell to enable.\n",
              "      </output>\n",
              "      <script src=\"/nbextensions/google.colab/files.js\"></script> "
            ],
            "text/plain": [
              "<IPython.core.display.HTML object>"
            ]
          },
          "metadata": {
            "tags": []
          }
        },
        {
          "output_type": "stream",
          "text": [
            "Saving dengue_features_test.csv to dengue_features_test.csv\n",
            "User uploaded file \"dengue_features_test.csv\" with length 82465 bytes\n"
          ],
          "name": "stdout"
        },
        {
          "output_type": "execute_result",
          "data": {
            "text/html": [
              "<div>\n",
              "<style scoped>\n",
              "    .dataframe tbody tr th:only-of-type {\n",
              "        vertical-align: middle;\n",
              "    }\n",
              "\n",
              "    .dataframe tbody tr th {\n",
              "        vertical-align: top;\n",
              "    }\n",
              "\n",
              "    .dataframe thead th {\n",
              "        text-align: right;\n",
              "    }\n",
              "</style>\n",
              "<table border=\"1\" class=\"dataframe\">\n",
              "  <thead>\n",
              "    <tr style=\"text-align: right;\">\n",
              "      <th></th>\n",
              "      <th></th>\n",
              "      <th></th>\n",
              "      <th>week_start_date</th>\n",
              "      <th>ndvi_ne</th>\n",
              "      <th>ndvi_nw</th>\n",
              "      <th>ndvi_se</th>\n",
              "      <th>ndvi_sw</th>\n",
              "      <th>precipitation_amt_mm</th>\n",
              "      <th>reanalysis_air_temp_k</th>\n",
              "      <th>reanalysis_avg_temp_k</th>\n",
              "      <th>reanalysis_dew_point_temp_k</th>\n",
              "      <th>reanalysis_max_air_temp_k</th>\n",
              "      <th>reanalysis_min_air_temp_k</th>\n",
              "      <th>reanalysis_precip_amt_kg_per_m2</th>\n",
              "      <th>reanalysis_relative_humidity_percent</th>\n",
              "      <th>reanalysis_sat_precip_amt_mm</th>\n",
              "      <th>reanalysis_specific_humidity_g_per_kg</th>\n",
              "      <th>reanalysis_tdtr_k</th>\n",
              "      <th>station_avg_temp_c</th>\n",
              "      <th>station_diur_temp_rng_c</th>\n",
              "      <th>station_max_temp_c</th>\n",
              "      <th>station_min_temp_c</th>\n",
              "      <th>station_precip_mm</th>\n",
              "    </tr>\n",
              "    <tr>\n",
              "      <th>city</th>\n",
              "      <th>weekofyear</th>\n",
              "      <th>year</th>\n",
              "      <th></th>\n",
              "      <th></th>\n",
              "      <th></th>\n",
              "      <th></th>\n",
              "      <th></th>\n",
              "      <th></th>\n",
              "      <th></th>\n",
              "      <th></th>\n",
              "      <th></th>\n",
              "      <th></th>\n",
              "      <th></th>\n",
              "      <th></th>\n",
              "      <th></th>\n",
              "      <th></th>\n",
              "      <th></th>\n",
              "      <th></th>\n",
              "      <th></th>\n",
              "      <th></th>\n",
              "      <th></th>\n",
              "      <th></th>\n",
              "      <th></th>\n",
              "    </tr>\n",
              "  </thead>\n",
              "  <tbody>\n",
              "    <tr>\n",
              "      <th rowspan=\"5\" valign=\"top\">sj</th>\n",
              "      <th>18</th>\n",
              "      <th>2008</th>\n",
              "      <td>2008-04-29</td>\n",
              "      <td>-0.0189</td>\n",
              "      <td>-0.018900</td>\n",
              "      <td>0.102729</td>\n",
              "      <td>0.091200</td>\n",
              "      <td>78.60</td>\n",
              "      <td>298.492857</td>\n",
              "      <td>298.550000</td>\n",
              "      <td>294.527143</td>\n",
              "      <td>301.1</td>\n",
              "      <td>296.4</td>\n",
              "      <td>25.37</td>\n",
              "      <td>78.781429</td>\n",
              "      <td>78.60</td>\n",
              "      <td>15.918571</td>\n",
              "      <td>3.128571</td>\n",
              "      <td>26.528571</td>\n",
              "      <td>7.057143</td>\n",
              "      <td>33.3</td>\n",
              "      <td>21.7</td>\n",
              "      <td>75.2</td>\n",
              "    </tr>\n",
              "    <tr>\n",
              "      <th>19</th>\n",
              "      <th>2008</th>\n",
              "      <td>2008-05-06</td>\n",
              "      <td>-0.0180</td>\n",
              "      <td>-0.012400</td>\n",
              "      <td>0.082043</td>\n",
              "      <td>0.072314</td>\n",
              "      <td>12.56</td>\n",
              "      <td>298.475714</td>\n",
              "      <td>298.557143</td>\n",
              "      <td>294.395714</td>\n",
              "      <td>300.8</td>\n",
              "      <td>296.7</td>\n",
              "      <td>21.83</td>\n",
              "      <td>78.230000</td>\n",
              "      <td>12.56</td>\n",
              "      <td>15.791429</td>\n",
              "      <td>2.571429</td>\n",
              "      <td>26.071429</td>\n",
              "      <td>5.557143</td>\n",
              "      <td>30.0</td>\n",
              "      <td>22.2</td>\n",
              "      <td>34.3</td>\n",
              "    </tr>\n",
              "    <tr>\n",
              "      <th>20</th>\n",
              "      <th>2008</th>\n",
              "      <td>2008-05-13</td>\n",
              "      <td>-0.0015</td>\n",
              "      <td>NaN</td>\n",
              "      <td>0.151083</td>\n",
              "      <td>0.091529</td>\n",
              "      <td>3.66</td>\n",
              "      <td>299.455714</td>\n",
              "      <td>299.357143</td>\n",
              "      <td>295.308571</td>\n",
              "      <td>302.2</td>\n",
              "      <td>296.4</td>\n",
              "      <td>4.12</td>\n",
              "      <td>78.270000</td>\n",
              "      <td>3.66</td>\n",
              "      <td>16.674286</td>\n",
              "      <td>4.428571</td>\n",
              "      <td>27.928571</td>\n",
              "      <td>7.785714</td>\n",
              "      <td>32.8</td>\n",
              "      <td>22.8</td>\n",
              "      <td>3.0</td>\n",
              "    </tr>\n",
              "    <tr>\n",
              "      <th>21</th>\n",
              "      <th>2008</th>\n",
              "      <td>2008-05-20</td>\n",
              "      <td>NaN</td>\n",
              "      <td>-0.019867</td>\n",
              "      <td>0.124329</td>\n",
              "      <td>0.125686</td>\n",
              "      <td>0.00</td>\n",
              "      <td>299.690000</td>\n",
              "      <td>299.728571</td>\n",
              "      <td>294.402857</td>\n",
              "      <td>303.0</td>\n",
              "      <td>296.9</td>\n",
              "      <td>2.20</td>\n",
              "      <td>73.015714</td>\n",
              "      <td>0.00</td>\n",
              "      <td>15.775714</td>\n",
              "      <td>4.342857</td>\n",
              "      <td>28.057143</td>\n",
              "      <td>6.271429</td>\n",
              "      <td>33.3</td>\n",
              "      <td>24.4</td>\n",
              "      <td>0.3</td>\n",
              "    </tr>\n",
              "    <tr>\n",
              "      <th>22</th>\n",
              "      <th>2008</th>\n",
              "      <td>2008-05-27</td>\n",
              "      <td>0.0568</td>\n",
              "      <td>0.039833</td>\n",
              "      <td>0.062267</td>\n",
              "      <td>0.075914</td>\n",
              "      <td>0.76</td>\n",
              "      <td>299.780000</td>\n",
              "      <td>299.671429</td>\n",
              "      <td>294.760000</td>\n",
              "      <td>302.3</td>\n",
              "      <td>297.3</td>\n",
              "      <td>4.36</td>\n",
              "      <td>74.084286</td>\n",
              "      <td>0.76</td>\n",
              "      <td>16.137143</td>\n",
              "      <td>3.542857</td>\n",
              "      <td>27.614286</td>\n",
              "      <td>7.085714</td>\n",
              "      <td>33.3</td>\n",
              "      <td>23.3</td>\n",
              "      <td>84.1</td>\n",
              "    </tr>\n",
              "  </tbody>\n",
              "</table>\n",
              "</div>"
            ],
            "text/plain": [
              "                     week_start_date  ...  station_precip_mm\n",
              "city weekofyear year                  ...                   \n",
              "sj   18         2008      2008-04-29  ...               75.2\n",
              "     19         2008      2008-05-06  ...               34.3\n",
              "     20         2008      2008-05-13  ...                3.0\n",
              "     21         2008      2008-05-20  ...                0.3\n",
              "     22         2008      2008-05-27  ...               84.1\n",
              "\n",
              "[5 rows x 21 columns]"
            ]
          },
          "metadata": {
            "tags": []
          },
          "execution_count": 5
        }
      ]
    },
    {
      "cell_type": "markdown",
      "metadata": {
        "id": "NIPp3wR_x9Rm"
      },
      "source": [
        "# Feature addition"
      ]
    },
    {
      "cell_type": "markdown",
      "metadata": {
        "id": "xyExCq9e0NWK"
      },
      "source": [
        "As we can see in the next visualization, our data has a high time related component. This component, can help us in our labor of predicting, so we have to find out how to represent it in our data."
      ]
    },
    {
      "cell_type": "code",
      "metadata": {
        "colab": {
          "base_uri": "https://localhost:8080/",
          "height": 610
        },
        "id": "pzITaryWyABR",
        "outputId": "286f8c3d-e3c1-4ea5-bf37-ed4a83420ee9"
      },
      "source": [
        "X_train[\"week_start_date\"] = X_train[\"week_start_date\"].apply(lambda k: datetime.strptime(k, \"%Y-%m-%d\"))\r\n",
        "\r\n",
        "df_to_plot = X_train.copy()\r\n",
        "\r\n",
        "df_to_plot[\"target\"] = y_train[\"total_cases\"]\r\n",
        "df_to_plot[\"city\"] = \"Iquitos\"\r\n",
        "df_to_plot.loc[\"sj\", \"city\"] = \"San Juan\"\r\n",
        "\r\n",
        "fig = px.line(df_to_plot, x=\"week_start_date\", y=\"target\", color = \"city\")\r\n",
        "fig.show()"
      ],
      "execution_count": null,
      "outputs": [
        {
          "output_type": "stream",
          "text": [
            "/usr/local/lib/python3.6/dist-packages/ipykernel/kernelbase.py:399: PerformanceWarning:\n",
            "\n",
            "indexing past lexsort depth may impact performance.\n",
            "\n"
          ],
          "name": "stderr"
        },
        {
          "output_type": "display_data",
          "data": {
            "text/html": [
              "<html>\n",
              "<head><meta charset=\"utf-8\" /></head>\n",
              "<body>\n",
              "    <div>\n",
              "            <script src=\"https://cdnjs.cloudflare.com/ajax/libs/mathjax/2.7.5/MathJax.js?config=TeX-AMS-MML_SVG\"></script><script type=\"text/javascript\">if (window.MathJax) {MathJax.Hub.Config({SVG: {font: \"STIX-Web\"}});}</script>\n",
              "                <script type=\"text/javascript\">window.PlotlyConfig = {MathJaxConfig: 'local'};</script>\n",
              "        <script src=\"https://cdn.plot.ly/plotly-latest.min.js\"></script>    \n",
              "            <div id=\"186fde58-0eba-4fb5-be59-1159e5670061\" class=\"plotly-graph-div\" style=\"height:525px; width:100%;\"></div>\n",
              "            <script type=\"text/javascript\">\n",
              "                \n",
              "                    window.PLOTLYENV=window.PLOTLYENV || {};\n",
              "                    \n",
              "                if (document.getElementById(\"186fde58-0eba-4fb5-be59-1159e5670061\")) {\n",
              "                    Plotly.newPlot(\n",
              "                        '186fde58-0eba-4fb5-be59-1159e5670061',\n",
              "                        [{\"hoverlabel\": {\"namelength\": 0}, \"hovertemplate\": \"city=San Juan<br>week_start_date=%{x}<br>target=%{y}\", \"legendgroup\": \"city=San Juan\", \"line\": {\"color\": \"#636efa\", \"dash\": \"solid\"}, \"mode\": \"lines\", \"name\": \"city=San Juan\", \"showlegend\": true, \"type\": \"scattergl\", \"x\": [\"1990-04-30T00:00:00\", \"1990-05-07T00:00:00\", \"1990-05-14T00:00:00\", \"1990-05-21T00:00:00\", \"1990-05-28T00:00:00\", \"1990-06-04T00:00:00\", \"1990-06-11T00:00:00\", \"1990-06-18T00:00:00\", \"1990-06-25T00:00:00\", \"1990-07-02T00:00:00\", \"1990-07-09T00:00:00\", \"1990-07-16T00:00:00\", \"1990-07-23T00:00:00\", \"1990-07-30T00:00:00\", \"1990-08-06T00:00:00\", \"1990-08-13T00:00:00\", \"1990-08-20T00:00:00\", \"1990-08-27T00:00:00\", \"1990-09-03T00:00:00\", \"1990-09-10T00:00:00\", \"1990-09-17T00:00:00\", \"1990-09-24T00:00:00\", \"1990-10-01T00:00:00\", \"1990-10-08T00:00:00\", \"1990-10-15T00:00:00\", \"1990-10-22T00:00:00\", \"1990-10-29T00:00:00\", \"1990-11-05T00:00:00\", \"1990-11-12T00:00:00\", \"1990-11-19T00:00:00\", \"1990-11-26T00:00:00\", \"1990-12-03T00:00:00\", \"1990-12-10T00:00:00\", \"1990-12-17T00:00:00\", \"1990-12-24T00:00:00\", \"1991-01-01T00:00:00\", \"1991-01-08T00:00:00\", \"1991-01-15T00:00:00\", \"1991-01-22T00:00:00\", \"1991-01-29T00:00:00\", \"1991-02-05T00:00:00\", \"1991-02-12T00:00:00\", \"1991-02-19T00:00:00\", \"1991-02-26T00:00:00\", \"1991-03-05T00:00:00\", \"1991-03-12T00:00:00\", \"1991-03-19T00:00:00\", \"1991-03-26T00:00:00\", \"1991-04-02T00:00:00\", \"1991-04-09T00:00:00\", \"1991-04-16T00:00:00\", \"1991-04-23T00:00:00\", \"1991-04-30T00:00:00\", \"1991-05-07T00:00:00\", \"1991-05-14T00:00:00\", \"1991-05-21T00:00:00\", \"1991-05-28T00:00:00\", \"1991-06-04T00:00:00\", \"1991-06-11T00:00:00\", \"1991-06-18T00:00:00\", \"1991-06-25T00:00:00\", \"1991-07-02T00:00:00\", \"1991-07-09T00:00:00\", \"1991-07-16T00:00:00\", \"1991-07-23T00:00:00\", \"1991-07-30T00:00:00\", \"1991-08-06T00:00:00\", \"1991-08-13T00:00:00\", \"1991-08-20T00:00:00\", \"1991-08-27T00:00:00\", \"1991-09-03T00:00:00\", \"1991-09-10T00:00:00\", \"1991-09-17T00:00:00\", \"1991-09-24T00:00:00\", \"1991-10-01T00:00:00\", \"1991-10-08T00:00:00\", \"1991-10-15T00:00:00\", \"1991-10-22T00:00:00\", \"1991-10-29T00:00:00\", \"1991-11-05T00:00:00\", \"1991-11-12T00:00:00\", \"1991-11-19T00:00:00\", \"1991-11-26T00:00:00\", \"1991-12-03T00:00:00\", \"1991-12-10T00:00:00\", \"1991-12-17T00:00:00\", \"1991-12-24T00:00:00\", \"1992-01-01T00:00:00\", \"1992-01-08T00:00:00\", \"1992-01-15T00:00:00\", \"1992-01-22T00:00:00\", \"1992-01-29T00:00:00\", \"1992-02-05T00:00:00\", \"1992-02-12T00:00:00\", \"1992-02-19T00:00:00\", \"1992-02-26T00:00:00\", \"1992-03-04T00:00:00\", \"1992-03-11T00:00:00\", \"1992-03-18T00:00:00\", \"1992-03-25T00:00:00\", \"1992-04-01T00:00:00\", \"1992-04-08T00:00:00\", \"1992-04-15T00:00:00\", \"1992-04-22T00:00:00\", \"1992-04-29T00:00:00\", \"1992-05-06T00:00:00\", \"1992-05-13T00:00:00\", \"1992-05-20T00:00:00\", \"1992-05-27T00:00:00\", \"1992-06-03T00:00:00\", \"1992-06-10T00:00:00\", \"1992-06-17T00:00:00\", \"1992-06-24T00:00:00\", \"1992-07-01T00:00:00\", \"1992-07-08T00:00:00\", \"1992-07-15T00:00:00\", \"1992-07-22T00:00:00\", \"1992-07-29T00:00:00\", \"1992-08-05T00:00:00\", \"1992-08-12T00:00:00\", \"1992-08-19T00:00:00\", \"1992-08-26T00:00:00\", \"1992-09-02T00:00:00\", \"1992-09-09T00:00:00\", \"1992-09-16T00:00:00\", \"1992-09-23T00:00:00\", \"1992-09-30T00:00:00\", \"1992-10-07T00:00:00\", \"1992-10-14T00:00:00\", \"1992-10-21T00:00:00\", \"1992-10-28T00:00:00\", \"1992-11-04T00:00:00\", \"1992-11-11T00:00:00\", \"1992-11-18T00:00:00\", \"1992-11-25T00:00:00\", \"1992-12-02T00:00:00\", \"1992-12-09T00:00:00\", \"1992-12-16T00:00:00\", \"1992-12-23T00:00:00\", \"1993-01-01T00:00:00\", \"1993-01-08T00:00:00\", \"1993-01-15T00:00:00\", \"1993-01-22T00:00:00\", \"1993-01-29T00:00:00\", \"1993-02-05T00:00:00\", \"1993-02-12T00:00:00\", \"1993-02-19T00:00:00\", \"1993-02-26T00:00:00\", \"1993-03-05T00:00:00\", \"1993-03-12T00:00:00\", \"1993-03-19T00:00:00\", \"1993-03-26T00:00:00\", \"1993-04-02T00:00:00\", \"1993-04-09T00:00:00\", \"1993-04-16T00:00:00\", \"1993-04-23T00:00:00\", \"1993-04-30T00:00:00\", \"1993-05-07T00:00:00\", \"1993-05-14T00:00:00\", \"1993-05-21T00:00:00\", \"1993-05-28T00:00:00\", \"1993-06-04T00:00:00\", \"1993-06-11T00:00:00\", \"1993-06-18T00:00:00\", \"1993-06-25T00:00:00\", \"1993-07-02T00:00:00\", \"1993-07-09T00:00:00\", \"1993-07-16T00:00:00\", \"1993-07-23T00:00:00\", \"1993-07-30T00:00:00\", \"1993-08-06T00:00:00\", \"1993-08-13T00:00:00\", \"1993-08-20T00:00:00\", \"1993-08-27T00:00:00\", \"1993-09-03T00:00:00\", \"1993-09-10T00:00:00\", \"1993-09-17T00:00:00\", \"1993-09-24T00:00:00\", \"1993-10-01T00:00:00\", \"1993-10-08T00:00:00\", \"1993-10-15T00:00:00\", \"1993-10-22T00:00:00\", \"1993-10-29T00:00:00\", \"1993-11-05T00:00:00\", \"1993-11-12T00:00:00\", \"1993-11-19T00:00:00\", \"1993-11-26T00:00:00\", \"1993-12-03T00:00:00\", \"1993-12-10T00:00:00\", \"1993-12-17T00:00:00\", \"1993-12-24T00:00:00\", \"1994-01-01T00:00:00\", \"1994-01-08T00:00:00\", \"1994-01-15T00:00:00\", \"1994-01-22T00:00:00\", \"1994-01-29T00:00:00\", \"1994-02-05T00:00:00\", \"1994-02-12T00:00:00\", \"1994-02-19T00:00:00\", \"1994-02-26T00:00:00\", \"1994-03-05T00:00:00\", \"1994-03-12T00:00:00\", \"1994-03-19T00:00:00\", \"1994-03-26T00:00:00\", \"1994-04-02T00:00:00\", \"1994-04-09T00:00:00\", \"1994-04-16T00:00:00\", \"1994-04-23T00:00:00\", \"1994-04-30T00:00:00\", \"1994-05-07T00:00:00\", \"1994-05-14T00:00:00\", \"1994-05-21T00:00:00\", \"1994-05-28T00:00:00\", \"1994-06-04T00:00:00\", \"1994-06-11T00:00:00\", \"1994-06-18T00:00:00\", \"1994-06-25T00:00:00\", \"1994-07-02T00:00:00\", \"1994-07-09T00:00:00\", \"1994-07-16T00:00:00\", \"1994-07-23T00:00:00\", \"1994-07-30T00:00:00\", \"1994-08-06T00:00:00\", \"1994-08-13T00:00:00\", \"1994-08-20T00:00:00\", \"1994-08-27T00:00:00\", \"1994-09-03T00:00:00\", \"1994-09-10T00:00:00\", \"1994-09-17T00:00:00\", \"1994-09-24T00:00:00\", \"1994-10-01T00:00:00\", \"1994-10-08T00:00:00\", \"1994-10-15T00:00:00\", \"1994-10-22T00:00:00\", \"1994-10-29T00:00:00\", \"1994-11-05T00:00:00\", \"1994-11-12T00:00:00\", \"1994-11-19T00:00:00\", \"1994-11-26T00:00:00\", \"1994-12-03T00:00:00\", \"1994-12-10T00:00:00\", \"1994-12-17T00:00:00\", \"1994-12-24T00:00:00\", \"1995-01-01T00:00:00\", \"1995-01-08T00:00:00\", \"1995-01-15T00:00:00\", \"1995-01-22T00:00:00\", \"1995-01-29T00:00:00\", \"1995-02-05T00:00:00\", \"1995-02-12T00:00:00\", \"1995-02-19T00:00:00\", \"1995-02-26T00:00:00\", \"1995-03-05T00:00:00\", \"1995-03-12T00:00:00\", \"1995-03-19T00:00:00\", \"1995-03-26T00:00:00\", \"1995-04-02T00:00:00\", \"1995-04-09T00:00:00\", \"1995-04-16T00:00:00\", \"1995-04-23T00:00:00\", \"1995-04-30T00:00:00\", \"1995-05-07T00:00:00\", \"1995-05-14T00:00:00\", \"1995-05-21T00:00:00\", \"1995-05-28T00:00:00\", \"1995-06-04T00:00:00\", \"1995-06-11T00:00:00\", \"1995-06-18T00:00:00\", \"1995-06-25T00:00:00\", \"1995-07-02T00:00:00\", \"1995-07-09T00:00:00\", \"1995-07-16T00:00:00\", \"1995-07-23T00:00:00\", \"1995-07-30T00:00:00\", \"1995-08-06T00:00:00\", \"1995-08-13T00:00:00\", \"1995-08-20T00:00:00\", \"1995-08-27T00:00:00\", \"1995-09-03T00:00:00\", \"1995-09-10T00:00:00\", \"1995-09-17T00:00:00\", \"1995-09-24T00:00:00\", \"1995-10-01T00:00:00\", \"1995-10-08T00:00:00\", \"1995-10-15T00:00:00\", \"1995-10-22T00:00:00\", \"1995-10-29T00:00:00\", \"1995-11-05T00:00:00\", \"1995-11-12T00:00:00\", \"1995-11-19T00:00:00\", \"1995-11-26T00:00:00\", \"1995-12-03T00:00:00\", \"1995-12-10T00:00:00\", \"1995-12-17T00:00:00\", \"1995-12-24T00:00:00\", \"1996-01-01T00:00:00\", \"1996-01-08T00:00:00\", \"1996-01-15T00:00:00\", \"1996-01-22T00:00:00\", \"1996-01-29T00:00:00\", \"1996-02-05T00:00:00\", \"1996-02-12T00:00:00\", \"1996-02-19T00:00:00\", \"1996-02-26T00:00:00\", \"1996-03-04T00:00:00\", \"1996-03-11T00:00:00\", \"1996-03-18T00:00:00\", \"1996-03-25T00:00:00\", \"1996-04-01T00:00:00\", \"1996-04-08T00:00:00\", \"1996-04-15T00:00:00\", \"1996-04-22T00:00:00\", \"1996-04-29T00:00:00\", \"1996-05-06T00:00:00\", \"1996-05-13T00:00:00\", \"1996-05-20T00:00:00\", \"1996-05-27T00:00:00\", \"1996-06-03T00:00:00\", \"1996-06-10T00:00:00\", \"1996-06-17T00:00:00\", \"1996-06-24T00:00:00\", \"1996-07-01T00:00:00\", \"1996-07-08T00:00:00\", \"1996-07-15T00:00:00\", \"1996-07-22T00:00:00\", \"1996-07-29T00:00:00\", \"1996-08-05T00:00:00\", \"1996-08-12T00:00:00\", \"1996-08-19T00:00:00\", \"1996-08-26T00:00:00\", \"1996-09-02T00:00:00\", \"1996-09-09T00:00:00\", \"1996-09-16T00:00:00\", \"1996-09-23T00:00:00\", \"1996-09-30T00:00:00\", \"1996-10-07T00:00:00\", \"1996-10-14T00:00:00\", \"1996-10-21T00:00:00\", \"1996-10-28T00:00:00\", \"1996-11-04T00:00:00\", \"1996-11-11T00:00:00\", \"1996-11-18T00:00:00\", \"1996-11-25T00:00:00\", \"1996-12-02T00:00:00\", \"1996-12-09T00:00:00\", \"1996-12-16T00:00:00\", \"1996-12-23T00:00:00\", \"1997-01-01T00:00:00\", \"1997-01-08T00:00:00\", \"1997-01-15T00:00:00\", \"1997-01-22T00:00:00\", \"1997-01-29T00:00:00\", \"1997-02-05T00:00:00\", \"1997-02-12T00:00:00\", \"1997-02-19T00:00:00\", \"1997-02-26T00:00:00\", \"1997-03-05T00:00:00\", \"1997-03-12T00:00:00\", \"1997-03-19T00:00:00\", \"1997-03-26T00:00:00\", \"1997-04-02T00:00:00\", \"1997-04-09T00:00:00\", \"1997-04-16T00:00:00\", \"1997-04-23T00:00:00\", \"1997-04-30T00:00:00\", \"1997-05-07T00:00:00\", \"1997-05-14T00:00:00\", \"1997-05-21T00:00:00\", \"1997-05-28T00:00:00\", \"1997-06-04T00:00:00\", \"1997-06-11T00:00:00\", \"1997-06-18T00:00:00\", \"1997-06-25T00:00:00\", \"1997-07-02T00:00:00\", \"1997-07-09T00:00:00\", \"1997-07-16T00:00:00\", \"1997-07-23T00:00:00\", \"1997-07-30T00:00:00\", \"1997-08-06T00:00:00\", \"1997-08-13T00:00:00\", \"1997-08-20T00:00:00\", \"1997-08-27T00:00:00\", \"1997-09-03T00:00:00\", \"1997-09-10T00:00:00\", \"1997-09-17T00:00:00\", \"1997-09-24T00:00:00\", \"1997-10-01T00:00:00\", \"1997-10-08T00:00:00\", \"1997-10-15T00:00:00\", \"1997-10-22T00:00:00\", \"1997-10-29T00:00:00\", \"1997-11-05T00:00:00\", \"1997-11-12T00:00:00\", \"1997-11-19T00:00:00\", \"1997-11-26T00:00:00\", \"1997-12-03T00:00:00\", \"1997-12-10T00:00:00\", \"1997-12-17T00:00:00\", \"1997-12-24T00:00:00\", \"1998-01-01T00:00:00\", \"1998-01-08T00:00:00\", \"1998-01-15T00:00:00\", \"1998-01-22T00:00:00\", \"1998-01-29T00:00:00\", \"1998-02-05T00:00:00\", \"1998-02-12T00:00:00\", \"1998-02-19T00:00:00\", \"1998-02-26T00:00:00\", \"1998-03-05T00:00:00\", \"1998-03-12T00:00:00\", \"1998-03-19T00:00:00\", \"1998-03-26T00:00:00\", \"1998-04-02T00:00:00\", \"1998-04-09T00:00:00\", \"1998-04-16T00:00:00\", \"1998-04-23T00:00:00\", \"1998-04-30T00:00:00\", \"1998-05-07T00:00:00\", \"1998-05-14T00:00:00\", \"1998-05-21T00:00:00\", \"1998-05-28T00:00:00\", \"1998-06-04T00:00:00\", \"1998-06-11T00:00:00\", \"1998-06-18T00:00:00\", \"1998-06-25T00:00:00\", \"1998-07-02T00:00:00\", \"1998-07-09T00:00:00\", \"1998-07-16T00:00:00\", \"1998-07-23T00:00:00\", \"1998-07-30T00:00:00\", \"1998-08-06T00:00:00\", \"1998-08-13T00:00:00\", \"1998-08-20T00:00:00\", \"1998-08-27T00:00:00\", \"1998-09-03T00:00:00\", \"1998-09-10T00:00:00\", \"1998-09-17T00:00:00\", \"1998-09-24T00:00:00\", \"1998-10-01T00:00:00\", \"1998-10-08T00:00:00\", \"1998-10-15T00:00:00\", \"1998-10-22T00:00:00\", \"1998-10-29T00:00:00\", \"1998-11-05T00:00:00\", \"1998-11-12T00:00:00\", \"1998-11-19T00:00:00\", \"1998-11-26T00:00:00\", \"1998-12-03T00:00:00\", \"1998-12-10T00:00:00\", \"1998-12-17T00:00:00\", \"1998-12-24T00:00:00\", \"1999-01-01T00:00:00\", \"1999-01-08T00:00:00\", \"1999-01-15T00:00:00\", \"1999-01-22T00:00:00\", \"1999-01-29T00:00:00\", \"1999-02-05T00:00:00\", \"1999-02-12T00:00:00\", \"1999-02-19T00:00:00\", \"1999-02-26T00:00:00\", \"1999-03-05T00:00:00\", \"1999-03-12T00:00:00\", \"1999-03-19T00:00:00\", \"1999-03-26T00:00:00\", \"1999-04-02T00:00:00\", \"1999-04-09T00:00:00\", \"1999-04-16T00:00:00\", \"1999-04-23T00:00:00\", \"1999-04-30T00:00:00\", \"1999-05-07T00:00:00\", \"1999-05-14T00:00:00\", \"1999-05-21T00:00:00\", \"1999-05-28T00:00:00\", \"1999-06-04T00:00:00\", \"1999-06-11T00:00:00\", \"1999-06-18T00:00:00\", \"1999-06-25T00:00:00\", \"1999-07-02T00:00:00\", \"1999-07-09T00:00:00\", \"1999-07-16T00:00:00\", \"1999-07-23T00:00:00\", \"1999-07-30T00:00:00\", \"1999-08-06T00:00:00\", \"1999-08-13T00:00:00\", \"1999-08-20T00:00:00\", \"1999-08-27T00:00:00\", \"1999-09-03T00:00:00\", \"1999-09-10T00:00:00\", \"1999-09-17T00:00:00\", \"1999-09-24T00:00:00\", \"1999-10-01T00:00:00\", \"1999-10-08T00:00:00\", \"1999-10-15T00:00:00\", \"1999-10-22T00:00:00\", \"1999-10-29T00:00:00\", \"1999-11-05T00:00:00\", \"1999-11-12T00:00:00\", \"1999-11-19T00:00:00\", \"1999-11-26T00:00:00\", \"1999-12-03T00:00:00\", \"1999-12-10T00:00:00\", \"1999-12-17T00:00:00\", \"1999-12-24T00:00:00\", \"2000-01-01T00:00:00\", \"2000-01-08T00:00:00\", \"2000-01-15T00:00:00\", \"2000-01-22T00:00:00\", \"2000-01-29T00:00:00\", \"2000-02-05T00:00:00\", \"2000-02-12T00:00:00\", \"2000-02-19T00:00:00\", \"2000-02-26T00:00:00\", \"2000-03-04T00:00:00\", \"2000-03-11T00:00:00\", \"2000-03-18T00:00:00\", \"2000-03-25T00:00:00\", \"2000-04-01T00:00:00\", \"2000-04-08T00:00:00\", \"2000-04-15T00:00:00\", \"2000-04-22T00:00:00\", \"2000-04-29T00:00:00\", \"2000-05-06T00:00:00\", \"2000-05-13T00:00:00\", \"2000-05-20T00:00:00\", \"2000-05-27T00:00:00\", \"2000-06-03T00:00:00\", \"2000-06-10T00:00:00\", \"2000-06-17T00:00:00\", \"2000-06-24T00:00:00\", \"2000-07-01T00:00:00\", \"2000-07-08T00:00:00\", \"2000-07-15T00:00:00\", \"2000-07-22T00:00:00\", \"2000-07-29T00:00:00\", \"2000-08-05T00:00:00\", \"2000-08-12T00:00:00\", \"2000-08-19T00:00:00\", \"2000-08-26T00:00:00\", \"2000-09-02T00:00:00\", \"2000-09-09T00:00:00\", \"2000-09-16T00:00:00\", \"2000-09-23T00:00:00\", \"2000-09-30T00:00:00\", \"2000-10-07T00:00:00\", \"2000-10-14T00:00:00\", \"2000-10-21T00:00:00\", \"2000-10-28T00:00:00\", \"2000-11-04T00:00:00\", \"2000-11-11T00:00:00\", \"2000-11-18T00:00:00\", \"2000-11-25T00:00:00\", \"2000-12-02T00:00:00\", \"2000-12-09T00:00:00\", \"2000-12-16T00:00:00\", \"2000-12-23T00:00:00\", \"2001-01-01T00:00:00\", \"2001-01-08T00:00:00\", \"2001-01-15T00:00:00\", \"2001-01-22T00:00:00\", \"2001-01-29T00:00:00\", \"2001-02-05T00:00:00\", \"2001-02-12T00:00:00\", \"2001-02-19T00:00:00\", \"2001-02-26T00:00:00\", \"2001-03-05T00:00:00\", \"2001-03-12T00:00:00\", \"2001-03-19T00:00:00\", \"2001-03-26T00:00:00\", \"2001-04-02T00:00:00\", \"2001-04-09T00:00:00\", \"2001-04-16T00:00:00\", \"2001-04-23T00:00:00\", \"2001-04-30T00:00:00\", \"2001-05-07T00:00:00\", \"2001-05-14T00:00:00\", \"2001-05-21T00:00:00\", \"2001-05-28T00:00:00\", \"2001-06-04T00:00:00\", \"2001-06-11T00:00:00\", \"2001-06-18T00:00:00\", \"2001-06-25T00:00:00\", \"2001-07-02T00:00:00\", \"2001-07-09T00:00:00\", \"2001-07-16T00:00:00\", \"2001-07-23T00:00:00\", \"2001-07-30T00:00:00\", \"2001-08-06T00:00:00\", \"2001-08-13T00:00:00\", \"2001-08-20T00:00:00\", \"2001-08-27T00:00:00\", \"2001-09-03T00:00:00\", \"2001-09-10T00:00:00\", \"2001-09-17T00:00:00\", \"2001-09-24T00:00:00\", \"2001-10-01T00:00:00\", \"2001-10-08T00:00:00\", \"2001-10-15T00:00:00\", \"2001-10-22T00:00:00\", \"2001-10-29T00:00:00\", \"2001-11-05T00:00:00\", \"2001-11-12T00:00:00\", \"2001-11-19T00:00:00\", \"2001-11-26T00:00:00\", \"2001-12-03T00:00:00\", \"2001-12-10T00:00:00\", \"2001-12-17T00:00:00\", \"2001-12-24T00:00:00\", \"2002-01-01T00:00:00\", \"2002-01-08T00:00:00\", \"2002-01-15T00:00:00\", \"2002-01-22T00:00:00\", \"2002-01-29T00:00:00\", \"2002-02-05T00:00:00\", \"2002-02-12T00:00:00\", \"2002-02-19T00:00:00\", \"2002-02-26T00:00:00\", \"2002-03-05T00:00:00\", \"2002-03-12T00:00:00\", \"2002-03-19T00:00:00\", \"2002-03-26T00:00:00\", \"2002-04-02T00:00:00\", \"2002-04-09T00:00:00\", \"2002-04-16T00:00:00\", \"2002-04-23T00:00:00\", \"2002-04-30T00:00:00\", \"2002-05-07T00:00:00\", \"2002-05-14T00:00:00\", \"2002-05-21T00:00:00\", \"2002-05-28T00:00:00\", \"2002-06-04T00:00:00\", \"2002-06-11T00:00:00\", \"2002-06-18T00:00:00\", \"2002-06-25T00:00:00\", \"2002-07-02T00:00:00\", \"2002-07-09T00:00:00\", \"2002-07-16T00:00:00\", \"2002-07-23T00:00:00\", \"2002-07-30T00:00:00\", \"2002-08-06T00:00:00\", \"2002-08-13T00:00:00\", \"2002-08-20T00:00:00\", \"2002-08-27T00:00:00\", \"2002-09-03T00:00:00\", \"2002-09-10T00:00:00\", \"2002-09-17T00:00:00\", \"2002-09-24T00:00:00\", \"2002-10-01T00:00:00\", \"2002-10-08T00:00:00\", \"2002-10-15T00:00:00\", \"2002-10-22T00:00:00\", \"2002-10-29T00:00:00\", \"2002-11-05T00:00:00\", \"2002-11-12T00:00:00\", \"2002-11-19T00:00:00\", \"2002-11-26T00:00:00\", \"2002-12-03T00:00:00\", \"2002-12-10T00:00:00\", \"2002-12-17T00:00:00\", \"2002-12-24T00:00:00\", \"2003-01-01T00:00:00\", \"2003-01-08T00:00:00\", \"2003-01-15T00:00:00\", \"2003-01-22T00:00:00\", \"2003-01-29T00:00:00\", \"2003-02-05T00:00:00\", \"2003-02-12T00:00:00\", \"2003-02-19T00:00:00\", \"2003-02-26T00:00:00\", \"2003-03-05T00:00:00\", \"2003-03-12T00:00:00\", \"2003-03-19T00:00:00\", \"2003-03-26T00:00:00\", \"2003-04-02T00:00:00\", \"2003-04-09T00:00:00\", \"2003-04-16T00:00:00\", \"2003-04-23T00:00:00\", \"2003-04-30T00:00:00\", \"2003-05-07T00:00:00\", \"2003-05-14T00:00:00\", \"2003-05-21T00:00:00\", \"2003-05-28T00:00:00\", \"2003-06-04T00:00:00\", \"2003-06-11T00:00:00\", \"2003-06-18T00:00:00\", \"2003-06-25T00:00:00\", \"2003-07-02T00:00:00\", \"2003-07-09T00:00:00\", \"2003-07-16T00:00:00\", \"2003-07-23T00:00:00\", \"2003-07-30T00:00:00\", \"2003-08-06T00:00:00\", \"2003-08-13T00:00:00\", \"2003-08-20T00:00:00\", \"2003-08-27T00:00:00\", \"2003-09-03T00:00:00\", \"2003-09-10T00:00:00\", \"2003-09-17T00:00:00\", \"2003-09-24T00:00:00\", \"2003-10-01T00:00:00\", \"2003-10-08T00:00:00\", \"2003-10-15T00:00:00\", \"2003-10-22T00:00:00\", \"2003-10-29T00:00:00\", \"2003-11-05T00:00:00\", \"2003-11-12T00:00:00\", \"2003-11-19T00:00:00\", \"2003-11-26T00:00:00\", \"2003-12-03T00:00:00\", \"2003-12-10T00:00:00\", \"2003-12-17T00:00:00\", \"2003-12-24T00:00:00\", \"2004-01-01T00:00:00\", \"2004-01-08T00:00:00\", \"2004-01-15T00:00:00\", \"2004-01-22T00:00:00\", \"2004-01-29T00:00:00\", \"2004-02-05T00:00:00\", \"2004-02-12T00:00:00\", \"2004-02-19T00:00:00\", \"2004-02-26T00:00:00\", \"2004-03-04T00:00:00\", \"2004-03-11T00:00:00\", \"2004-03-18T00:00:00\", \"2004-03-25T00:00:00\", \"2004-04-01T00:00:00\", \"2004-04-08T00:00:00\", \"2004-04-15T00:00:00\", \"2004-04-22T00:00:00\", \"2004-04-29T00:00:00\", \"2004-05-06T00:00:00\", \"2004-05-13T00:00:00\", \"2004-05-20T00:00:00\", \"2004-05-27T00:00:00\", \"2004-06-03T00:00:00\", \"2004-06-10T00:00:00\", \"2004-06-17T00:00:00\", \"2004-06-24T00:00:00\", \"2004-07-01T00:00:00\", \"2004-07-08T00:00:00\", \"2004-07-15T00:00:00\", \"2004-07-22T00:00:00\", \"2004-07-29T00:00:00\", \"2004-08-05T00:00:00\", \"2004-08-12T00:00:00\", \"2004-08-19T00:00:00\", \"2004-08-26T00:00:00\", \"2004-09-02T00:00:00\", \"2004-09-09T00:00:00\", \"2004-09-16T00:00:00\", \"2004-09-23T00:00:00\", \"2004-09-30T00:00:00\", \"2004-10-07T00:00:00\", \"2004-10-14T00:00:00\", \"2004-10-21T00:00:00\", \"2004-10-28T00:00:00\", \"2004-11-04T00:00:00\", \"2004-11-11T00:00:00\", \"2004-11-18T00:00:00\", \"2004-11-25T00:00:00\", \"2004-12-02T00:00:00\", \"2004-12-09T00:00:00\", \"2004-12-16T00:00:00\", \"2004-12-23T00:00:00\", \"2005-01-01T00:00:00\", \"2005-01-08T00:00:00\", \"2005-01-15T00:00:00\", \"2005-01-22T00:00:00\", \"2005-01-29T00:00:00\", \"2005-02-05T00:00:00\", \"2005-02-12T00:00:00\", \"2005-02-19T00:00:00\", \"2005-02-26T00:00:00\", \"2005-03-05T00:00:00\", \"2005-03-12T00:00:00\", \"2005-03-19T00:00:00\", \"2005-03-26T00:00:00\", \"2005-04-02T00:00:00\", \"2005-04-09T00:00:00\", \"2005-04-16T00:00:00\", \"2005-04-23T00:00:00\", \"2005-04-30T00:00:00\", \"2005-05-07T00:00:00\", \"2005-05-14T00:00:00\", \"2005-05-21T00:00:00\", \"2005-05-28T00:00:00\", \"2005-06-04T00:00:00\", \"2005-06-11T00:00:00\", \"2005-06-18T00:00:00\", \"2005-06-25T00:00:00\", \"2005-07-02T00:00:00\", \"2005-07-09T00:00:00\", \"2005-07-16T00:00:00\", \"2005-07-23T00:00:00\", \"2005-07-30T00:00:00\", \"2005-08-06T00:00:00\", \"2005-08-13T00:00:00\", \"2005-08-20T00:00:00\", \"2005-08-27T00:00:00\", \"2005-09-03T00:00:00\", \"2005-09-10T00:00:00\", \"2005-09-17T00:00:00\", \"2005-09-24T00:00:00\", \"2005-10-01T00:00:00\", \"2005-10-08T00:00:00\", \"2005-10-15T00:00:00\", \"2005-10-22T00:00:00\", \"2005-10-29T00:00:00\", \"2005-11-05T00:00:00\", \"2005-11-12T00:00:00\", \"2005-11-19T00:00:00\", \"2005-11-26T00:00:00\", \"2005-12-03T00:00:00\", \"2005-12-10T00:00:00\", \"2005-12-17T00:00:00\", \"2005-12-24T00:00:00\", \"2006-01-01T00:00:00\", \"2006-01-08T00:00:00\", \"2006-01-15T00:00:00\", \"2006-01-22T00:00:00\", \"2006-01-29T00:00:00\", \"2006-02-05T00:00:00\", \"2006-02-12T00:00:00\", \"2006-02-19T00:00:00\", \"2006-02-26T00:00:00\", \"2006-03-05T00:00:00\", \"2006-03-12T00:00:00\", \"2006-03-19T00:00:00\", \"2006-03-26T00:00:00\", \"2006-04-02T00:00:00\", \"2006-04-09T00:00:00\", \"2006-04-16T00:00:00\", \"2006-04-23T00:00:00\", \"2006-04-30T00:00:00\", \"2006-05-07T00:00:00\", \"2006-05-14T00:00:00\", \"2006-05-21T00:00:00\", \"2006-05-28T00:00:00\", \"2006-06-04T00:00:00\", \"2006-06-11T00:00:00\", \"2006-06-18T00:00:00\", \"2006-06-25T00:00:00\", \"2006-07-02T00:00:00\", \"2006-07-09T00:00:00\", \"2006-07-16T00:00:00\", \"2006-07-23T00:00:00\", \"2006-07-30T00:00:00\", \"2006-08-06T00:00:00\", \"2006-08-13T00:00:00\", \"2006-08-20T00:00:00\", \"2006-08-27T00:00:00\", \"2006-09-03T00:00:00\", \"2006-09-10T00:00:00\", \"2006-09-17T00:00:00\", \"2006-09-24T00:00:00\", \"2006-10-01T00:00:00\", \"2006-10-08T00:00:00\", \"2006-10-15T00:00:00\", \"2006-10-22T00:00:00\", \"2006-10-29T00:00:00\", \"2006-11-05T00:00:00\", \"2006-11-12T00:00:00\", \"2006-11-19T00:00:00\", \"2006-11-26T00:00:00\", \"2006-12-03T00:00:00\", \"2006-12-10T00:00:00\", \"2006-12-17T00:00:00\", \"2006-12-24T00:00:00\", \"2007-01-01T00:00:00\", \"2007-01-08T00:00:00\", \"2007-01-15T00:00:00\", \"2007-01-22T00:00:00\", \"2007-01-29T00:00:00\", \"2007-02-05T00:00:00\", \"2007-02-12T00:00:00\", \"2007-02-19T00:00:00\", \"2007-02-26T00:00:00\", \"2007-03-05T00:00:00\", \"2007-03-12T00:00:00\", \"2007-03-19T00:00:00\", \"2007-03-26T00:00:00\", \"2007-04-02T00:00:00\", \"2007-04-09T00:00:00\", \"2007-04-16T00:00:00\", \"2007-04-23T00:00:00\", \"2007-04-30T00:00:00\", \"2007-05-07T00:00:00\", \"2007-05-14T00:00:00\", \"2007-05-21T00:00:00\", \"2007-05-28T00:00:00\", \"2007-06-04T00:00:00\", \"2007-06-11T00:00:00\", \"2007-06-18T00:00:00\", \"2007-06-25T00:00:00\", \"2007-07-02T00:00:00\", \"2007-07-09T00:00:00\", \"2007-07-16T00:00:00\", \"2007-07-23T00:00:00\", \"2007-07-30T00:00:00\", \"2007-08-06T00:00:00\", \"2007-08-13T00:00:00\", \"2007-08-20T00:00:00\", \"2007-08-27T00:00:00\", \"2007-09-03T00:00:00\", \"2007-09-10T00:00:00\", \"2007-09-17T00:00:00\", \"2007-09-24T00:00:00\", \"2007-10-01T00:00:00\", \"2007-10-08T00:00:00\", \"2007-10-15T00:00:00\", \"2007-10-22T00:00:00\", \"2007-10-29T00:00:00\", \"2007-11-05T00:00:00\", \"2007-11-12T00:00:00\", \"2007-11-19T00:00:00\", \"2007-11-26T00:00:00\", \"2007-12-03T00:00:00\", \"2007-12-10T00:00:00\", \"2007-12-17T00:00:00\", \"2007-12-24T00:00:00\", \"2008-01-01T00:00:00\", \"2008-01-08T00:00:00\", \"2008-01-15T00:00:00\", \"2008-01-22T00:00:00\", \"2008-01-29T00:00:00\", \"2008-02-05T00:00:00\", \"2008-02-12T00:00:00\", \"2008-02-19T00:00:00\", \"2008-02-26T00:00:00\", \"2008-03-04T00:00:00\", \"2008-03-11T00:00:00\", \"2008-03-18T00:00:00\", \"2008-03-25T00:00:00\", \"2008-04-01T00:00:00\", \"2008-04-08T00:00:00\", \"2008-04-15T00:00:00\", \"2008-04-22T00:00:00\"], \"xaxis\": \"x\", \"y\": [4, 5, 4, 3, 6, 2, 4, 5, 10, 6, 8, 2, 6, 17, 23, 13, 21, 28, 24, 20, 40, 27, 42, 33, 43, 37, 57, 71, 44, 56, 53, 52, 47, 26, 27, 21, 21, 26, 34, 37, 17, 19, 25, 18, 21, 17, 17, 16, 16, 15, 23, 16, 17, 12, 17, 10, 15, 19, 21, 14, 18, 13, 14, 18, 23, 25, 62, 60, 76, 66, 64, 68, 89, 92, 140, 116, 142, 129, 140, 140, 127, 129, 169, 141, 108, 78, 70, 81, 104, 90, 85, 55, 53, 65, 33, 38, 59, 40, 37, 29, 30, 30, 28, 23, 24, 29, 26, 23, 20, 19, 20, 26, 29, 31, 28, 26, 32, 35, 33, 30, 52, 59, 67, 65, 74, 70, 61, 53, 76, 61, 57, 44, 34, 47, 60, 60, 53, 36, 31, 30, 32, 28, 33, 33, 35, 22, 13, 13, 21, 17, 11, 8, 8, 6, 6, 7, 12, 17, 10, 10, 18, 19, 12, 22, 12, 21, 18, 16, 16, 22, 17, 25, 23, 12, 25, 28, 27, 18, 23, 23, 29, 38, 36, 43, 46, 31, 25, 40, 31, 38, 30, 22, 31, 26, 35, 36, 39, 25, 31, 37, 33, 25, 24, 18, 23, 13, 18, 14, 17, 22, 13, 24, 31, 34, 31, 31, 38, 49, 42, 49, 55, 80, 84, 72, 89, 115, 179, 202, 272, 302, 395, 426, 461, 381, 333, 353, 410, 364, 359, 288, 221, 149, 112, 154, 91, 72, 56, 46, 37, 26, 17, 17, 20, 11, 7, 16, 14, 16, 5, 2, 6, 5, 4, 3, 4, 16, 8, 7, 10, 14, 7, 9, 11, 23, 17, 19, 24, 17, 28, 40, 33, 31, 33, 29, 30, 36, 48, 40, 28, 36, 19, 34, 23, 17, 17, 23, 14, 20, 13, 23, 20, 16, 16, 23, 14, 15, 4, 5, 5, 11, 11, 7, 4, 6, 5, 2, 4, 2, 4, 6, 6, 4, 6, 11, 16, 9, 12, 13, 27, 21, 19, 17, 24, 27, 30, 29, 25, 35, 33, 30, 29, 31, 29, 22, 27, 24, 26, 29, 22, 33, 24, 30, 20, 17, 24, 28, 18, 13, 9, 14, 11, 11, 19, 10, 8, 8, 9, 3, 7, 14, 4, 9, 14, 7, 9, 3, 3, 14, 12, 10, 21, 26, 47, 42, 31, 34, 33, 52, 56, 70, 112, 70, 47, 48, 49, 66, 56, 61, 67, 64, 68, 49, 50, 56, 75, 63, 62, 41, 50, 34, 31, 38, 30, 32, 26, 30, 36, 35, 46, 48, 44, 51, 59, 71, 102, 128, 127, 150, 191, 256, 329, 263, 220, 204, 181, 99, 54, 80, 102, 127, 73, 68, 64, 55, 67, 84, 85, 67, 73, 89, 68, 59, 56, 77, 75, 47, 50, 42, 28, 37, 37, 27, 12, 15, 22, 8, 15, 17, 10, 9, 11, 20, 13, 11, 16, 11, 7, 17, 14, 13, 15, 30, 25, 40, 44, 25, 21, 48, 56, 60, 45, 55, 32, 46, 61, 42, 37, 43, 34, 40, 25, 16, 17, 17, 16, 23, 18, 18, 9, 7, 7, 4, 3, 2, 8, 3, 1, 1, 2, 3, 3, 2, 0, 0, 2, 2, 0, 6, 3, 6, 2, 3, 2, 4, 5, 2, 9, 2, 4, 8, 6, 3, 11, 14, 15, 20, 9, 20, 28, 38, 30, 30, 23, 16, 22, 28, 14, 17, 20, 17, 10, 13, 20, 9, 18, 9, 8, 19, 11, 4, 6, 6, 8, 13, 8, 8, 5, 16, 12, 11, 18, 10, 22, 14, 16, 18, 27, 38, 35, 41, 51, 65, 55, 54, 62, 64, 56, 65, 71, 75, 71, 72, 47, 27, 35, 25, 19, 37, 38, 34, 26, 19, 18, 22, 16, 18, 6, 12, 6, 6, 3, 7, 6, 1, 3, 2, 2, 1, 10, 3, 3, 1, 1, 2, 6, 3, 3, 5, 4, 7, 6, 5, 7, 6, 4, 4, 7, 9, 5, 5, 10, 6, 13, 6, 5, 5, 9, 3, 6, 11, 7, 7, 15, 9, 6, 6, 6, 7, 10, 8, 7, 12, 3, 2, 7, 5, 5, 7, 7, 7, 7, 10, 13, 10, 14, 11, 20, 25, 17, 18, 25, 21, 31, 32, 26, 35, 28, 37, 41, 34, 30, 39, 39, 39, 34, 30, 37, 29, 26, 15, 22, 15, 20, 14, 10, 21, 14, 14, 9, 11, 5, 6, 7, 11, 4, 3, 2, 6, 10, 7, 5, 3, 12, 13, 10, 13, 13, 8, 21, 18, 8, 7, 20, 14, 14, 7, 14, 10, 13, 27, 13, 18, 16, 16, 20, 17, 4, 15, 8, 6, 12, 15, 11, 10, 15, 17, 7, 7, 8, 9, 12, 12, 5, 4, 11, 4, 5, 7, 1, 1, 4, 2, 6, 3, 4, 10, 12, 21, 26, 21, 30, 45, 56, 75, 83, 82, 126, 119, 137, 131, 112, 82, 73, 43, 55, 55, 53, 46, 43, 29, 22, 26, 13, 17, 8, 13, 10, 17, 19, 9, 9, 9, 3, 7, 7, 0, 2, 3, 3, 1, 3, 3, 3, 7, 3, 5, 11, 5, 5, 6, 6, 4, 4, 8, 14, 12, 16, 10, 16, 18, 15, 23, 17, 33, 15, 13, 11, 14, 17, 19, 20, 12, 21, 7, 19, 10, 13, 10, 8, 21, 11, 9, 14, 14, 15, 18, 16, 12, 20, 8, 3, 13, 4, 1, 10, 8, 13, 10, 21, 18, 21, 34, 25, 34, 33, 40, 42, 36, 72, 75, 76, 92, 71, 112, 106, 101, 170, 135, 106, 68, 48, 48, 26, 33, 29, 17, 12, 13, 17, 15, 14, 15, 10, 9, 2, 6, 8, 5, 1, 2, 3, 4, 3, 1, 3, 5], \"yaxis\": \"y\"}, {\"hoverlabel\": {\"namelength\": 0}, \"hovertemplate\": \"city=Iquitos<br>week_start_date=%{x}<br>target=%{y}\", \"legendgroup\": \"city=Iquitos\", \"line\": {\"color\": \"#EF553B\", \"dash\": \"solid\"}, \"mode\": \"lines\", \"name\": \"city=Iquitos\", \"showlegend\": true, \"type\": \"scattergl\", \"x\": [\"2000-07-01T00:00:00\", \"2000-07-08T00:00:00\", \"2000-07-15T00:00:00\", \"2000-07-22T00:00:00\", \"2000-07-29T00:00:00\", \"2000-08-05T00:00:00\", \"2000-08-12T00:00:00\", \"2000-08-19T00:00:00\", \"2000-08-26T00:00:00\", \"2000-09-02T00:00:00\", \"2000-09-09T00:00:00\", \"2000-09-16T00:00:00\", \"2000-09-23T00:00:00\", \"2000-09-30T00:00:00\", \"2000-10-07T00:00:00\", \"2000-10-14T00:00:00\", \"2000-10-21T00:00:00\", \"2000-10-28T00:00:00\", \"2000-11-04T00:00:00\", \"2000-11-11T00:00:00\", \"2000-11-18T00:00:00\", \"2000-11-25T00:00:00\", \"2000-12-02T00:00:00\", \"2000-12-09T00:00:00\", \"2000-12-16T00:00:00\", \"2000-12-23T00:00:00\", \"2001-01-01T00:00:00\", \"2001-01-08T00:00:00\", \"2001-01-15T00:00:00\", \"2001-01-22T00:00:00\", \"2001-01-29T00:00:00\", \"2001-02-05T00:00:00\", \"2001-02-12T00:00:00\", \"2001-02-19T00:00:00\", \"2001-02-26T00:00:00\", \"2001-03-05T00:00:00\", \"2001-03-12T00:00:00\", \"2001-03-19T00:00:00\", \"2001-03-26T00:00:00\", \"2001-04-02T00:00:00\", \"2001-04-09T00:00:00\", \"2001-04-16T00:00:00\", \"2001-04-23T00:00:00\", \"2001-04-30T00:00:00\", \"2001-05-07T00:00:00\", \"2001-05-14T00:00:00\", \"2001-05-21T00:00:00\", \"2001-05-28T00:00:00\", \"2001-06-04T00:00:00\", \"2001-06-11T00:00:00\", \"2001-06-18T00:00:00\", \"2001-06-25T00:00:00\", \"2001-07-02T00:00:00\", \"2001-07-09T00:00:00\", \"2001-07-16T00:00:00\", \"2001-07-23T00:00:00\", \"2001-07-30T00:00:00\", \"2001-08-06T00:00:00\", \"2001-08-13T00:00:00\", \"2001-08-20T00:00:00\", \"2001-08-27T00:00:00\", \"2001-09-03T00:00:00\", \"2001-09-10T00:00:00\", \"2001-09-17T00:00:00\", \"2001-09-24T00:00:00\", \"2001-10-01T00:00:00\", \"2001-10-08T00:00:00\", \"2001-10-15T00:00:00\", \"2001-10-22T00:00:00\", \"2001-10-29T00:00:00\", \"2001-11-05T00:00:00\", \"2001-11-12T00:00:00\", \"2001-11-19T00:00:00\", \"2001-11-26T00:00:00\", \"2001-12-03T00:00:00\", \"2001-12-10T00:00:00\", \"2001-12-17T00:00:00\", \"2001-12-24T00:00:00\", \"2002-01-01T00:00:00\", \"2002-01-08T00:00:00\", \"2002-01-15T00:00:00\", \"2002-01-22T00:00:00\", \"2002-01-29T00:00:00\", \"2002-02-05T00:00:00\", \"2002-02-12T00:00:00\", \"2002-02-19T00:00:00\", \"2002-02-26T00:00:00\", \"2002-03-05T00:00:00\", \"2002-03-12T00:00:00\", \"2002-03-19T00:00:00\", \"2002-03-26T00:00:00\", \"2002-04-02T00:00:00\", \"2002-04-09T00:00:00\", \"2002-04-16T00:00:00\", \"2002-04-23T00:00:00\", \"2002-04-30T00:00:00\", \"2002-05-07T00:00:00\", \"2002-05-14T00:00:00\", \"2002-05-21T00:00:00\", \"2002-05-28T00:00:00\", \"2002-06-04T00:00:00\", \"2002-06-11T00:00:00\", \"2002-06-18T00:00:00\", \"2002-06-25T00:00:00\", \"2002-07-02T00:00:00\", \"2002-07-09T00:00:00\", \"2002-07-16T00:00:00\", \"2002-07-23T00:00:00\", \"2002-07-30T00:00:00\", \"2002-08-06T00:00:00\", \"2002-08-13T00:00:00\", \"2002-08-20T00:00:00\", \"2002-08-27T00:00:00\", \"2002-09-03T00:00:00\", \"2002-09-10T00:00:00\", \"2002-09-17T00:00:00\", \"2002-09-24T00:00:00\", \"2002-10-01T00:00:00\", \"2002-10-08T00:00:00\", \"2002-10-15T00:00:00\", \"2002-10-22T00:00:00\", \"2002-10-29T00:00:00\", \"2002-11-05T00:00:00\", \"2002-11-12T00:00:00\", \"2002-11-19T00:00:00\", \"2002-11-26T00:00:00\", \"2002-12-03T00:00:00\", \"2002-12-10T00:00:00\", \"2002-12-17T00:00:00\", \"2002-12-24T00:00:00\", \"2003-01-01T00:00:00\", \"2003-01-08T00:00:00\", \"2003-01-15T00:00:00\", \"2003-01-22T00:00:00\", \"2003-01-29T00:00:00\", \"2003-02-05T00:00:00\", \"2003-02-12T00:00:00\", \"2003-02-19T00:00:00\", \"2003-02-26T00:00:00\", \"2003-03-05T00:00:00\", \"2003-03-12T00:00:00\", \"2003-03-19T00:00:00\", \"2003-03-26T00:00:00\", \"2003-04-02T00:00:00\", \"2003-04-09T00:00:00\", \"2003-04-16T00:00:00\", \"2003-04-23T00:00:00\", \"2003-04-30T00:00:00\", \"2003-05-07T00:00:00\", \"2003-05-14T00:00:00\", \"2003-05-21T00:00:00\", \"2003-05-28T00:00:00\", \"2003-06-04T00:00:00\", \"2003-06-11T00:00:00\", \"2003-06-18T00:00:00\", \"2003-06-25T00:00:00\", \"2003-07-02T00:00:00\", \"2003-07-09T00:00:00\", \"2003-07-16T00:00:00\", \"2003-07-23T00:00:00\", \"2003-07-30T00:00:00\", \"2003-08-06T00:00:00\", \"2003-08-13T00:00:00\", \"2003-08-20T00:00:00\", \"2003-08-27T00:00:00\", \"2003-09-03T00:00:00\", \"2003-09-10T00:00:00\", \"2003-09-17T00:00:00\", \"2003-09-24T00:00:00\", \"2003-10-01T00:00:00\", \"2003-10-08T00:00:00\", \"2003-10-15T00:00:00\", \"2003-10-22T00:00:00\", \"2003-10-29T00:00:00\", \"2003-11-05T00:00:00\", \"2003-11-12T00:00:00\", \"2003-11-19T00:00:00\", \"2003-11-26T00:00:00\", \"2003-12-03T00:00:00\", \"2003-12-10T00:00:00\", \"2003-12-17T00:00:00\", \"2003-12-24T00:00:00\", \"2004-01-01T00:00:00\", \"2004-01-08T00:00:00\", \"2004-01-15T00:00:00\", \"2004-01-22T00:00:00\", \"2004-01-29T00:00:00\", \"2004-02-05T00:00:00\", \"2004-02-12T00:00:00\", \"2004-02-19T00:00:00\", \"2004-02-26T00:00:00\", \"2004-03-04T00:00:00\", \"2004-03-11T00:00:00\", \"2004-03-18T00:00:00\", \"2004-03-25T00:00:00\", \"2004-04-01T00:00:00\", \"2004-04-08T00:00:00\", \"2004-04-15T00:00:00\", \"2004-04-22T00:00:00\", \"2004-04-29T00:00:00\", \"2004-05-06T00:00:00\", \"2004-05-13T00:00:00\", \"2004-05-20T00:00:00\", \"2004-05-27T00:00:00\", \"2004-06-03T00:00:00\", \"2004-06-10T00:00:00\", \"2004-06-17T00:00:00\", \"2004-06-24T00:00:00\", \"2004-07-01T00:00:00\", \"2004-07-08T00:00:00\", \"2004-07-15T00:00:00\", \"2004-07-22T00:00:00\", \"2004-07-29T00:00:00\", \"2004-08-05T00:00:00\", \"2004-08-12T00:00:00\", \"2004-08-19T00:00:00\", \"2004-08-26T00:00:00\", \"2004-09-02T00:00:00\", \"2004-09-09T00:00:00\", \"2004-09-16T00:00:00\", \"2004-09-23T00:00:00\", \"2004-09-30T00:00:00\", \"2004-10-07T00:00:00\", \"2004-10-14T00:00:00\", \"2004-10-21T00:00:00\", \"2004-10-28T00:00:00\", \"2004-11-04T00:00:00\", \"2004-11-11T00:00:00\", \"2004-11-18T00:00:00\", \"2004-11-25T00:00:00\", \"2004-12-02T00:00:00\", \"2004-12-09T00:00:00\", \"2004-12-16T00:00:00\", \"2004-12-23T00:00:00\", \"2005-01-01T00:00:00\", \"2005-01-08T00:00:00\", \"2005-01-15T00:00:00\", \"2005-01-22T00:00:00\", \"2005-01-29T00:00:00\", \"2005-02-05T00:00:00\", \"2005-02-12T00:00:00\", \"2005-02-19T00:00:00\", \"2005-02-26T00:00:00\", \"2005-03-05T00:00:00\", \"2005-03-12T00:00:00\", \"2005-03-19T00:00:00\", \"2005-03-26T00:00:00\", \"2005-04-02T00:00:00\", \"2005-04-09T00:00:00\", \"2005-04-16T00:00:00\", \"2005-04-23T00:00:00\", \"2005-04-30T00:00:00\", \"2005-05-07T00:00:00\", \"2005-05-14T00:00:00\", \"2005-05-21T00:00:00\", \"2005-05-28T00:00:00\", \"2005-06-04T00:00:00\", \"2005-06-11T00:00:00\", \"2005-06-18T00:00:00\", \"2005-06-25T00:00:00\", \"2005-07-02T00:00:00\", \"2005-07-09T00:00:00\", \"2005-07-16T00:00:00\", \"2005-07-23T00:00:00\", \"2005-07-30T00:00:00\", \"2005-08-06T00:00:00\", \"2005-08-13T00:00:00\", \"2005-08-20T00:00:00\", \"2005-08-27T00:00:00\", \"2005-09-03T00:00:00\", \"2005-09-10T00:00:00\", \"2005-09-17T00:00:00\", \"2005-09-24T00:00:00\", \"2005-10-01T00:00:00\", \"2005-10-08T00:00:00\", \"2005-10-15T00:00:00\", \"2005-10-22T00:00:00\", \"2005-10-29T00:00:00\", \"2005-11-05T00:00:00\", \"2005-11-12T00:00:00\", \"2005-11-19T00:00:00\", \"2005-11-26T00:00:00\", \"2005-12-03T00:00:00\", \"2005-12-10T00:00:00\", \"2005-12-17T00:00:00\", \"2005-12-24T00:00:00\", \"2006-01-01T00:00:00\", \"2006-01-08T00:00:00\", \"2006-01-15T00:00:00\", \"2006-01-22T00:00:00\", \"2006-01-29T00:00:00\", \"2006-02-05T00:00:00\", \"2006-02-12T00:00:00\", \"2006-02-19T00:00:00\", \"2006-02-26T00:00:00\", \"2006-03-05T00:00:00\", \"2006-03-12T00:00:00\", \"2006-03-19T00:00:00\", \"2006-03-26T00:00:00\", \"2006-04-02T00:00:00\", \"2006-04-09T00:00:00\", \"2006-04-16T00:00:00\", \"2006-04-23T00:00:00\", \"2006-04-30T00:00:00\", \"2006-05-07T00:00:00\", \"2006-05-14T00:00:00\", \"2006-05-21T00:00:00\", \"2006-05-28T00:00:00\", \"2006-06-04T00:00:00\", \"2006-06-11T00:00:00\", \"2006-06-18T00:00:00\", \"2006-06-25T00:00:00\", \"2006-07-02T00:00:00\", \"2006-07-09T00:00:00\", \"2006-07-16T00:00:00\", \"2006-07-23T00:00:00\", \"2006-07-30T00:00:00\", \"2006-08-06T00:00:00\", \"2006-08-13T00:00:00\", \"2006-08-20T00:00:00\", \"2006-08-27T00:00:00\", \"2006-09-03T00:00:00\", \"2006-09-10T00:00:00\", \"2006-09-17T00:00:00\", \"2006-09-24T00:00:00\", \"2006-10-01T00:00:00\", \"2006-10-08T00:00:00\", \"2006-10-15T00:00:00\", \"2006-10-22T00:00:00\", \"2006-10-29T00:00:00\", \"2006-11-05T00:00:00\", \"2006-11-12T00:00:00\", \"2006-11-19T00:00:00\", \"2006-11-26T00:00:00\", \"2006-12-03T00:00:00\", \"2006-12-10T00:00:00\", \"2006-12-17T00:00:00\", \"2006-12-24T00:00:00\", \"2007-01-01T00:00:00\", \"2007-01-08T00:00:00\", \"2007-01-15T00:00:00\", \"2007-01-22T00:00:00\", \"2007-01-29T00:00:00\", \"2007-02-05T00:00:00\", \"2007-02-12T00:00:00\", \"2007-02-19T00:00:00\", \"2007-02-26T00:00:00\", \"2007-03-05T00:00:00\", \"2007-03-12T00:00:00\", \"2007-03-19T00:00:00\", \"2007-03-26T00:00:00\", \"2007-04-02T00:00:00\", \"2007-04-09T00:00:00\", \"2007-04-16T00:00:00\", \"2007-04-23T00:00:00\", \"2007-04-30T00:00:00\", \"2007-05-07T00:00:00\", \"2007-05-14T00:00:00\", \"2007-05-21T00:00:00\", \"2007-05-28T00:00:00\", \"2007-06-04T00:00:00\", \"2007-06-11T00:00:00\", \"2007-06-18T00:00:00\", \"2007-06-25T00:00:00\", \"2007-07-02T00:00:00\", \"2007-07-09T00:00:00\", \"2007-07-16T00:00:00\", \"2007-07-23T00:00:00\", \"2007-07-30T00:00:00\", \"2007-08-06T00:00:00\", \"2007-08-13T00:00:00\", \"2007-08-20T00:00:00\", \"2007-08-27T00:00:00\", \"2007-09-03T00:00:00\", \"2007-09-10T00:00:00\", \"2007-09-17T00:00:00\", \"2007-09-24T00:00:00\", \"2007-10-01T00:00:00\", \"2007-10-08T00:00:00\", \"2007-10-15T00:00:00\", \"2007-10-22T00:00:00\", \"2007-10-29T00:00:00\", \"2007-11-05T00:00:00\", \"2007-11-12T00:00:00\", \"2007-11-19T00:00:00\", \"2007-11-26T00:00:00\", \"2007-12-03T00:00:00\", \"2007-12-10T00:00:00\", \"2007-12-17T00:00:00\", \"2007-12-24T00:00:00\", \"2008-01-01T00:00:00\", \"2008-01-08T00:00:00\", \"2008-01-15T00:00:00\", \"2008-01-22T00:00:00\", \"2008-01-29T00:00:00\", \"2008-02-05T00:00:00\", \"2008-02-12T00:00:00\", \"2008-02-19T00:00:00\", \"2008-02-26T00:00:00\", \"2008-03-04T00:00:00\", \"2008-03-11T00:00:00\", \"2008-03-18T00:00:00\", \"2008-03-25T00:00:00\", \"2008-04-01T00:00:00\", \"2008-04-08T00:00:00\", \"2008-04-15T00:00:00\", \"2008-04-22T00:00:00\", \"2008-04-29T00:00:00\", \"2008-05-06T00:00:00\", \"2008-05-13T00:00:00\", \"2008-05-20T00:00:00\", \"2008-05-27T00:00:00\", \"2008-06-03T00:00:00\", \"2008-06-10T00:00:00\", \"2008-06-17T00:00:00\", \"2008-06-24T00:00:00\", \"2008-07-01T00:00:00\", \"2008-07-08T00:00:00\", \"2008-07-15T00:00:00\", \"2008-07-22T00:00:00\", \"2008-07-29T00:00:00\", \"2008-08-05T00:00:00\", \"2008-08-12T00:00:00\", \"2008-08-19T00:00:00\", \"2008-08-26T00:00:00\", \"2008-09-02T00:00:00\", \"2008-09-09T00:00:00\", \"2008-09-16T00:00:00\", \"2008-09-23T00:00:00\", \"2008-09-30T00:00:00\", \"2008-10-07T00:00:00\", \"2008-10-14T00:00:00\", \"2008-10-21T00:00:00\", \"2008-10-28T00:00:00\", \"2008-11-04T00:00:00\", \"2008-11-11T00:00:00\", \"2008-11-18T00:00:00\", \"2008-11-25T00:00:00\", \"2008-12-02T00:00:00\", \"2008-12-09T00:00:00\", \"2008-12-16T00:00:00\", \"2008-12-23T00:00:00\", \"2009-01-01T00:00:00\", \"2009-01-08T00:00:00\", \"2009-01-15T00:00:00\", \"2009-01-22T00:00:00\", \"2009-01-29T00:00:00\", \"2009-02-05T00:00:00\", \"2009-02-12T00:00:00\", \"2009-02-19T00:00:00\", \"2009-02-26T00:00:00\", \"2009-03-05T00:00:00\", \"2009-03-12T00:00:00\", \"2009-03-19T00:00:00\", \"2009-03-26T00:00:00\", \"2009-04-02T00:00:00\", \"2009-04-09T00:00:00\", \"2009-04-16T00:00:00\", \"2009-04-23T00:00:00\", \"2009-04-30T00:00:00\", \"2009-05-07T00:00:00\", \"2009-05-14T00:00:00\", \"2009-05-21T00:00:00\", \"2009-05-28T00:00:00\", \"2009-06-04T00:00:00\", \"2009-06-11T00:00:00\", \"2009-06-18T00:00:00\", \"2009-06-25T00:00:00\", \"2009-07-02T00:00:00\", \"2009-07-09T00:00:00\", \"2009-07-16T00:00:00\", \"2009-07-23T00:00:00\", \"2009-07-30T00:00:00\", \"2009-08-06T00:00:00\", \"2009-08-13T00:00:00\", \"2009-08-20T00:00:00\", \"2009-08-27T00:00:00\", \"2009-09-03T00:00:00\", \"2009-09-10T00:00:00\", \"2009-09-17T00:00:00\", \"2009-09-24T00:00:00\", \"2009-10-01T00:00:00\", \"2009-10-08T00:00:00\", \"2009-10-15T00:00:00\", \"2009-10-22T00:00:00\", \"2009-10-29T00:00:00\", \"2009-11-05T00:00:00\", \"2009-11-12T00:00:00\", \"2009-11-19T00:00:00\", \"2009-11-26T00:00:00\", \"2009-12-03T00:00:00\", \"2009-12-10T00:00:00\", \"2009-12-17T00:00:00\", \"2009-12-24T00:00:00\", \"2010-01-01T00:00:00\", \"2010-01-08T00:00:00\", \"2010-01-15T00:00:00\", \"2010-01-22T00:00:00\", \"2010-01-29T00:00:00\", \"2010-02-05T00:00:00\", \"2010-02-12T00:00:00\", \"2010-02-19T00:00:00\", \"2010-02-26T00:00:00\", \"2010-03-05T00:00:00\", \"2010-03-12T00:00:00\", \"2010-03-19T00:00:00\", \"2010-03-26T00:00:00\", \"2010-04-02T00:00:00\", \"2010-04-09T00:00:00\", \"2010-04-16T00:00:00\", \"2010-04-23T00:00:00\", \"2010-04-30T00:00:00\", \"2010-05-07T00:00:00\", \"2010-05-14T00:00:00\", \"2010-05-21T00:00:00\", \"2010-05-28T00:00:00\", \"2010-06-04T00:00:00\", \"2010-06-11T00:00:00\", \"2010-06-18T00:00:00\", \"2010-06-25T00:00:00\"], \"xaxis\": \"x\", \"y\": [0, 0, 0, 0, 0, 0, 0, 0, 0, 0, 1, 0, 0, 0, 0, 1, 1, 0, 0, 0, 0, 0, 0, 0, 1, 0, 0, 0, 0, 0, 0, 0, 0, 0, 0, 0, 0, 0, 0, 0, 0, 1, 0, 0, 0, 0, 1, 1, 0, 0, 1, 0, 0, 0, 0, 0, 0, 0, 0, 0, 0, 0, 0, 0, 0, 0, 0, 0, 0, 0, 0, 0, 1, 1, 1, 2, 4, 1, 4, 11, 16, 23, 12, 14, 18, 8, 7, 10, 7, 10, 5, 11, 8, 18, 13, 9, 22, 10, 5, 13, 2, 11, 11, 3, 7, 7, 4, 5, 6, 7, 7, 4, 9, 17, 8, 22, 18, 21, 16, 31, 25, 28, 26, 18, 27, 11, 38, 29, 21, 11, 10, 5, 6, 2, 1, 2, 2, 3, 5, 1, 4, 2, 4, 0, 0, 0, 0, 1, 1, 1, 1, 1, 2, 3, 4, 6, 2, 2, 5, 1, 1, 0, 0, 0, 0, 2, 0, 3, 0, 0, 0, 2, 2, 3, 3, 3, 1, 2, 3, 6, 5, 1, 4, 5, 8, 5, 2, 3, 3, 1, 6, 4, 1, 2, 3, 1, 8, 4, 6, 7, 5, 8, 6, 5, 6, 6, 13, 2, 10, 3, 12, 7, 6, 5, 6, 6, 6, 8, 6, 9, 12, 19, 8, 16, 21, 6, 22, 37, 33, 18, 83, 116, 32, 7, 9, 10, 5, 8, 7, 8, 11, 6, 7, 7, 14, 7, 9, 13, 16, 7, 9, 2, 13, 8, 3, 5, 4, 8, 2, 3, 5, 7, 3, 5, 6, 5, 5, 4, 0, 0, 0, 0, 0, 2, 4, 4, 3, 3, 5, 6, 14, 3, 7, 11, 2, 6, 8, 25, 21, 10, 28, 39, 20, 24, 28, 26, 8, 9, 12, 18, 9, 9, 6, 6, 8, 5, 7, 6, 5, 3, 1, 0, 1, 2, 3, 2, 2, 2, 2, 2, 4, 0, 6, 3, 2, 6, 2, 7, 4, 6, 6, 2, 13, 10, 5, 2, 0, 1, 0, 14, 6, 10, 5, 12, 9, 5, 11, 2, 6, 7, 6, 5, 9, 5, 8, 3, 4, 11, 5, 8, 4, 3, 1, 2, 3, 4, 1, 8, 5, 3, 2, 7, 1, 6, 7, 5, 2, 6, 11, 6, 3, 11, 11, 5, 4, 9, 23, 28, 26, 7, 29, 58, 26, 38, 35, 37, 20, 29, 25, 23, 9, 3, 6, 6, 3, 1, 3, 1, 1, 0, 2, 1, 1, 0, 0, 1, 0, 3, 3, 1, 5, 2, 5, 5, 5, 9, 17, 19, 25, 45, 34, 63, 44, 50, 35, 16, 16, 13, 9, 15, 4, 0, 1, 10, 11, 29, 35, 30, 20, 21, 12, 9, 11, 9, 5, 11, 3, 5, 5, 4, 4, 1, 0, 2, 3, 3, 5, 2, 1, 2, 0, 0, 3, 5, 5, 7, 5, 2, 2, 2, 0, 2, 1, 1, 2, 2, 3, 9, 5, 5, 4, 4, 1, 0, 0, 10, 9, 17, 16, 11, 12, 19, 15, 12, 12, 16, 9, 4, 9, 6, 8, 4, 2, 7, 6, 5, 8, 1, 1, 4], \"yaxis\": \"y\"}],\n",
              "                        {\"legend\": {\"tracegroupgap\": 0}, \"margin\": {\"t\": 60}, \"template\": {\"data\": {\"bar\": [{\"error_x\": {\"color\": \"#2a3f5f\"}, \"error_y\": {\"color\": \"#2a3f5f\"}, \"marker\": {\"line\": {\"color\": \"#E5ECF6\", \"width\": 0.5}}, \"type\": \"bar\"}], \"barpolar\": [{\"marker\": {\"line\": {\"color\": \"#E5ECF6\", \"width\": 0.5}}, \"type\": \"barpolar\"}], \"carpet\": [{\"aaxis\": {\"endlinecolor\": \"#2a3f5f\", \"gridcolor\": \"white\", \"linecolor\": \"white\", \"minorgridcolor\": \"white\", \"startlinecolor\": \"#2a3f5f\"}, \"baxis\": {\"endlinecolor\": \"#2a3f5f\", \"gridcolor\": \"white\", \"linecolor\": \"white\", \"minorgridcolor\": \"white\", \"startlinecolor\": \"#2a3f5f\"}, \"type\": \"carpet\"}], \"choropleth\": [{\"colorbar\": {\"outlinewidth\": 0, \"ticks\": \"\"}, \"type\": \"choropleth\"}], \"contour\": [{\"colorbar\": {\"outlinewidth\": 0, \"ticks\": \"\"}, \"colorscale\": [[0.0, \"#0d0887\"], [0.1111111111111111, \"#46039f\"], [0.2222222222222222, \"#7201a8\"], [0.3333333333333333, \"#9c179e\"], [0.4444444444444444, \"#bd3786\"], [0.5555555555555556, \"#d8576b\"], [0.6666666666666666, \"#ed7953\"], [0.7777777777777778, \"#fb9f3a\"], [0.8888888888888888, \"#fdca26\"], [1.0, \"#f0f921\"]], \"type\": \"contour\"}], \"contourcarpet\": [{\"colorbar\": {\"outlinewidth\": 0, \"ticks\": \"\"}, \"type\": \"contourcarpet\"}], \"heatmap\": [{\"colorbar\": {\"outlinewidth\": 0, \"ticks\": \"\"}, \"colorscale\": [[0.0, \"#0d0887\"], [0.1111111111111111, \"#46039f\"], [0.2222222222222222, \"#7201a8\"], [0.3333333333333333, \"#9c179e\"], [0.4444444444444444, \"#bd3786\"], [0.5555555555555556, \"#d8576b\"], [0.6666666666666666, \"#ed7953\"], [0.7777777777777778, \"#fb9f3a\"], [0.8888888888888888, \"#fdca26\"], [1.0, \"#f0f921\"]], \"type\": \"heatmap\"}], \"heatmapgl\": [{\"colorbar\": {\"outlinewidth\": 0, \"ticks\": \"\"}, \"colorscale\": [[0.0, \"#0d0887\"], [0.1111111111111111, \"#46039f\"], [0.2222222222222222, \"#7201a8\"], [0.3333333333333333, \"#9c179e\"], [0.4444444444444444, \"#bd3786\"], [0.5555555555555556, \"#d8576b\"], [0.6666666666666666, \"#ed7953\"], [0.7777777777777778, \"#fb9f3a\"], [0.8888888888888888, \"#fdca26\"], [1.0, \"#f0f921\"]], \"type\": \"heatmapgl\"}], \"histogram\": [{\"marker\": {\"colorbar\": {\"outlinewidth\": 0, \"ticks\": \"\"}}, \"type\": \"histogram\"}], \"histogram2d\": [{\"colorbar\": {\"outlinewidth\": 0, \"ticks\": \"\"}, \"colorscale\": [[0.0, \"#0d0887\"], [0.1111111111111111, \"#46039f\"], [0.2222222222222222, \"#7201a8\"], [0.3333333333333333, \"#9c179e\"], [0.4444444444444444, \"#bd3786\"], [0.5555555555555556, \"#d8576b\"], [0.6666666666666666, \"#ed7953\"], [0.7777777777777778, \"#fb9f3a\"], [0.8888888888888888, \"#fdca26\"], [1.0, \"#f0f921\"]], \"type\": \"histogram2d\"}], \"histogram2dcontour\": [{\"colorbar\": {\"outlinewidth\": 0, \"ticks\": \"\"}, \"colorscale\": [[0.0, \"#0d0887\"], [0.1111111111111111, \"#46039f\"], [0.2222222222222222, \"#7201a8\"], [0.3333333333333333, \"#9c179e\"], [0.4444444444444444, \"#bd3786\"], [0.5555555555555556, \"#d8576b\"], [0.6666666666666666, \"#ed7953\"], [0.7777777777777778, \"#fb9f3a\"], [0.8888888888888888, \"#fdca26\"], [1.0, \"#f0f921\"]], \"type\": \"histogram2dcontour\"}], \"mesh3d\": [{\"colorbar\": {\"outlinewidth\": 0, \"ticks\": \"\"}, \"type\": \"mesh3d\"}], \"parcoords\": [{\"line\": {\"colorbar\": {\"outlinewidth\": 0, \"ticks\": \"\"}}, \"type\": \"parcoords\"}], \"pie\": [{\"automargin\": true, \"type\": \"pie\"}], \"scatter\": [{\"marker\": {\"colorbar\": {\"outlinewidth\": 0, \"ticks\": \"\"}}, \"type\": \"scatter\"}], \"scatter3d\": [{\"line\": {\"colorbar\": {\"outlinewidth\": 0, \"ticks\": \"\"}}, \"marker\": {\"colorbar\": {\"outlinewidth\": 0, \"ticks\": \"\"}}, \"type\": \"scatter3d\"}], \"scattercarpet\": [{\"marker\": {\"colorbar\": {\"outlinewidth\": 0, \"ticks\": \"\"}}, \"type\": \"scattercarpet\"}], \"scattergeo\": [{\"marker\": {\"colorbar\": {\"outlinewidth\": 0, \"ticks\": \"\"}}, \"type\": \"scattergeo\"}], \"scattergl\": [{\"marker\": {\"colorbar\": {\"outlinewidth\": 0, \"ticks\": \"\"}}, \"type\": \"scattergl\"}], \"scattermapbox\": [{\"marker\": {\"colorbar\": {\"outlinewidth\": 0, \"ticks\": \"\"}}, \"type\": \"scattermapbox\"}], \"scatterpolar\": [{\"marker\": {\"colorbar\": {\"outlinewidth\": 0, \"ticks\": \"\"}}, \"type\": \"scatterpolar\"}], \"scatterpolargl\": [{\"marker\": {\"colorbar\": {\"outlinewidth\": 0, \"ticks\": \"\"}}, \"type\": \"scatterpolargl\"}], \"scatterternary\": [{\"marker\": {\"colorbar\": {\"outlinewidth\": 0, \"ticks\": \"\"}}, \"type\": \"scatterternary\"}], \"surface\": [{\"colorbar\": {\"outlinewidth\": 0, \"ticks\": \"\"}, \"colorscale\": [[0.0, \"#0d0887\"], [0.1111111111111111, \"#46039f\"], [0.2222222222222222, \"#7201a8\"], [0.3333333333333333, \"#9c179e\"], [0.4444444444444444, \"#bd3786\"], [0.5555555555555556, \"#d8576b\"], [0.6666666666666666, \"#ed7953\"], [0.7777777777777778, \"#fb9f3a\"], [0.8888888888888888, \"#fdca26\"], [1.0, \"#f0f921\"]], \"type\": \"surface\"}], \"table\": [{\"cells\": {\"fill\": {\"color\": \"#EBF0F8\"}, \"line\": {\"color\": \"white\"}}, \"header\": {\"fill\": {\"color\": \"#C8D4E3\"}, \"line\": {\"color\": \"white\"}}, \"type\": \"table\"}]}, \"layout\": {\"annotationdefaults\": {\"arrowcolor\": \"#2a3f5f\", \"arrowhead\": 0, \"arrowwidth\": 1}, \"coloraxis\": {\"colorbar\": {\"outlinewidth\": 0, \"ticks\": \"\"}}, \"colorscale\": {\"diverging\": [[0, \"#8e0152\"], [0.1, \"#c51b7d\"], [0.2, \"#de77ae\"], [0.3, \"#f1b6da\"], [0.4, \"#fde0ef\"], [0.5, \"#f7f7f7\"], [0.6, \"#e6f5d0\"], [0.7, \"#b8e186\"], [0.8, \"#7fbc41\"], [0.9, \"#4d9221\"], [1, \"#276419\"]], \"sequential\": [[0.0, \"#0d0887\"], [0.1111111111111111, \"#46039f\"], [0.2222222222222222, \"#7201a8\"], [0.3333333333333333, \"#9c179e\"], [0.4444444444444444, \"#bd3786\"], [0.5555555555555556, \"#d8576b\"], [0.6666666666666666, \"#ed7953\"], [0.7777777777777778, \"#fb9f3a\"], [0.8888888888888888, \"#fdca26\"], [1.0, \"#f0f921\"]], \"sequentialminus\": [[0.0, \"#0d0887\"], [0.1111111111111111, \"#46039f\"], [0.2222222222222222, \"#7201a8\"], [0.3333333333333333, \"#9c179e\"], [0.4444444444444444, \"#bd3786\"], [0.5555555555555556, \"#d8576b\"], [0.6666666666666666, \"#ed7953\"], [0.7777777777777778, \"#fb9f3a\"], [0.8888888888888888, \"#fdca26\"], [1.0, \"#f0f921\"]]}, \"colorway\": [\"#636efa\", \"#EF553B\", \"#00cc96\", \"#ab63fa\", \"#FFA15A\", \"#19d3f3\", \"#FF6692\", \"#B6E880\", \"#FF97FF\", \"#FECB52\"], \"font\": {\"color\": \"#2a3f5f\"}, \"geo\": {\"bgcolor\": \"white\", \"lakecolor\": \"white\", \"landcolor\": \"#E5ECF6\", \"showlakes\": true, \"showland\": true, \"subunitcolor\": \"white\"}, \"hoverlabel\": {\"align\": \"left\"}, \"hovermode\": \"closest\", \"mapbox\": {\"style\": \"light\"}, \"paper_bgcolor\": \"white\", \"plot_bgcolor\": \"#E5ECF6\", \"polar\": {\"angularaxis\": {\"gridcolor\": \"white\", \"linecolor\": \"white\", \"ticks\": \"\"}, \"bgcolor\": \"#E5ECF6\", \"radialaxis\": {\"gridcolor\": \"white\", \"linecolor\": \"white\", \"ticks\": \"\"}}, \"scene\": {\"xaxis\": {\"backgroundcolor\": \"#E5ECF6\", \"gridcolor\": \"white\", \"gridwidth\": 2, \"linecolor\": \"white\", \"showbackground\": true, \"ticks\": \"\", \"zerolinecolor\": \"white\"}, \"yaxis\": {\"backgroundcolor\": \"#E5ECF6\", \"gridcolor\": \"white\", \"gridwidth\": 2, \"linecolor\": \"white\", \"showbackground\": true, \"ticks\": \"\", \"zerolinecolor\": \"white\"}, \"zaxis\": {\"backgroundcolor\": \"#E5ECF6\", \"gridcolor\": \"white\", \"gridwidth\": 2, \"linecolor\": \"white\", \"showbackground\": true, \"ticks\": \"\", \"zerolinecolor\": \"white\"}}, \"shapedefaults\": {\"line\": {\"color\": \"#2a3f5f\"}}, \"ternary\": {\"aaxis\": {\"gridcolor\": \"white\", \"linecolor\": \"white\", \"ticks\": \"\"}, \"baxis\": {\"gridcolor\": \"white\", \"linecolor\": \"white\", \"ticks\": \"\"}, \"bgcolor\": \"#E5ECF6\", \"caxis\": {\"gridcolor\": \"white\", \"linecolor\": \"white\", \"ticks\": \"\"}}, \"title\": {\"x\": 0.05}, \"xaxis\": {\"automargin\": true, \"gridcolor\": \"white\", \"linecolor\": \"white\", \"ticks\": \"\", \"title\": {\"standoff\": 15}, \"zerolinecolor\": \"white\", \"zerolinewidth\": 2}, \"yaxis\": {\"automargin\": true, \"gridcolor\": \"white\", \"linecolor\": \"white\", \"ticks\": \"\", \"title\": {\"standoff\": 15}, \"zerolinecolor\": \"white\", \"zerolinewidth\": 2}}}, \"xaxis\": {\"anchor\": \"y\", \"domain\": [0.0, 1.0], \"title\": {\"text\": \"week_start_date\"}}, \"yaxis\": {\"anchor\": \"x\", \"domain\": [0.0, 1.0], \"title\": {\"text\": \"target\"}}},\n",
              "                        {\"responsive\": true}\n",
              "                    ).then(function(){\n",
              "                            \n",
              "var gd = document.getElementById('186fde58-0eba-4fb5-be59-1159e5670061');\n",
              "var x = new MutationObserver(function (mutations, observer) {{\n",
              "        var display = window.getComputedStyle(gd).display;\n",
              "        if (!display || display === 'none') {{\n",
              "            console.log([gd, 'removed!']);\n",
              "            Plotly.purge(gd);\n",
              "            observer.disconnect();\n",
              "        }}\n",
              "}});\n",
              "\n",
              "// Listen for the removal of the full notebook cells\n",
              "var notebookContainer = gd.closest('#notebook-container');\n",
              "if (notebookContainer) {{\n",
              "    x.observe(notebookContainer, {childList: true});\n",
              "}}\n",
              "\n",
              "// Listen for the clearing of the current output cell\n",
              "var outputEl = gd.closest('.output');\n",
              "if (outputEl) {{\n",
              "    x.observe(outputEl, {childList: true});\n",
              "}}\n",
              "\n",
              "                        })\n",
              "                };\n",
              "                \n",
              "            </script>\n",
              "        </div>\n",
              "</body>\n",
              "</html>"
            ]
          },
          "metadata": {
            "tags": []
          }
        }
      ]
    },
    {
      "cell_type": "markdown",
      "metadata": {
        "id": "kX_SpHpM4J5a"
      },
      "source": [
        "To represent this temporal component, we are going to extract various time component like weekday, month or season. Then we'll apply some transformations to add numeric periodic features using this time components."
      ]
    },
    {
      "cell_type": "code",
      "metadata": {
        "id": "x6Bb3Qaq4IaX"
      },
      "source": [
        "def get_season(x):\r\n",
        "    year = str(x.year)\r\n",
        "    seasons = {'spring': pd.date_range(start='21/03/'+year, end='20/06/'+year),\r\n",
        "               'summer': pd.date_range(start='21/06/'+year, end='22/09/'+year),\r\n",
        "               'autumn': pd.date_range(start='23/09/'+year, end='20/12/'+year)}\r\n",
        "    if x in seasons['spring']:\r\n",
        "        return 1 # Spring\r\n",
        "    if x in seasons['summer']:\r\n",
        "        return 2 # Summer\r\n",
        "    if x in seasons['autumn']:\r\n",
        "        return 3 # Autumn\r\n",
        "    else:\r\n",
        "        return 4 # Winter\r\n",
        "\r\n",
        "\r\n",
        "X_train[\"week_start_date\"] = pd.to_datetime(X_train[\"week_start_date\"])\r\n",
        "X_train[\"month\"] = X_train[\"week_start_date\"].dt.month\r\n",
        "X_train[\"season\"] = X_train[\"week_start_date\"].apply(lambda x: get_season(x))\r\n",
        "\r\n",
        "X_train[\"month_cos\"] = X_train.apply(lambda x: cos( ((x['month']-5)%12) / (12.0 * 2 * pi)), axis=1)\r\n",
        "X_train[\"month_sin\"] = X_train.apply(lambda x: sin( ((x['month']-5)%12) / (12.0 * 2 * pi)), axis=1)\r\n",
        "X_train[\"season_cos\"] = X_train.apply(lambda x: cos( ((x['season']-3)%4) / (4.0 * 2 * pi)), axis=1)\r\n",
        "X_train[\"season_sin\"] = X_train.apply(lambda x: sin( ((x['season']-3)%4) / (4.0 * 2 * pi)), axis=1)"
      ],
      "execution_count": null,
      "outputs": []
    },
    {
      "cell_type": "markdown",
      "metadata": {
        "id": "B3pjlVN3mwin"
      },
      "source": [
        "## Preprocessing & Transformation\r\n"
      ]
    },
    {
      "cell_type": "markdown",
      "metadata": {
        "id": "8SfWiN24tBsR"
      },
      "source": [
        "First we are going to drop useless features."
      ]
    },
    {
      "cell_type": "code",
      "metadata": {
        "id": "5IwYyoT1jihv"
      },
      "source": [
        "X_train.drop(\"week_start_date\", axis = 1, inplace = True)\r\n",
        "X_train.drop(\"month\", axis = 1, inplace = True)\r\n",
        "X_train.drop(\"season\", axis = 1, inplace = True)"
      ],
      "execution_count": null,
      "outputs": []
    },
    {
      "cell_type": "markdown",
      "metadata": {
        "id": "9oS4TcngtWX0"
      },
      "source": [
        "As we saw in the base line notebook, we have many null values. We use the K Nearest Neighbour Imputer to fill those empty values."
      ]
    },
    {
      "cell_type": "code",
      "metadata": {
        "colab": {
          "base_uri": "https://localhost:8080/"
        },
        "id": "40aQOia-tWey",
        "outputId": "40b7674d-c687-42e0-9ce1-82f1e4433dfe"
      },
      "source": [
        "imputer = KNNImputer(n_neighbors=3)\r\n",
        "X_train[:] = imputer.fit_transform(X_train)\r\n",
        "\r\n",
        "pd.isnull(X_train).any()"
      ],
      "execution_count": null,
      "outputs": [
        {
          "output_type": "execute_result",
          "data": {
            "text/plain": [
              "ndvi_ne                                  False\n",
              "ndvi_nw                                  False\n",
              "ndvi_se                                  False\n",
              "ndvi_sw                                  False\n",
              "precipitation_amt_mm                     False\n",
              "reanalysis_air_temp_k                    False\n",
              "reanalysis_avg_temp_k                    False\n",
              "reanalysis_dew_point_temp_k              False\n",
              "reanalysis_max_air_temp_k                False\n",
              "reanalysis_min_air_temp_k                False\n",
              "reanalysis_precip_amt_kg_per_m2          False\n",
              "reanalysis_relative_humidity_percent     False\n",
              "reanalysis_sat_precip_amt_mm             False\n",
              "reanalysis_specific_humidity_g_per_kg    False\n",
              "reanalysis_tdtr_k                        False\n",
              "station_avg_temp_c                       False\n",
              "station_diur_temp_rng_c                  False\n",
              "station_max_temp_c                       False\n",
              "station_min_temp_c                       False\n",
              "station_precip_mm                        False\n",
              "month_cos                                False\n",
              "month_sin                                False\n",
              "season_cos                               False\n",
              "season_sin                               False\n",
              "dtype: bool"
            ]
          },
          "metadata": {
            "tags": []
          },
          "execution_count": 9
        }
      ]
    },
    {
      "cell_type": "markdown",
      "metadata": {
        "id": "SniZFcLvwQ_d"
      },
      "source": [
        "Normalize data using an scaler. We have tested several scalers, concluding that the MinMaxScaler was the one that gave us better results. \r\n",
        "\r\n",
        "Tested scalers:\r\n",
        "- MinMaxScaler\r\n",
        "- StandardScaler\r\n",
        "- RobustScaler\r\n",
        "- ..."
      ]
    },
    {
      "cell_type": "code",
      "metadata": {
        "id": "OF0VknanwQet",
        "colab": {
          "base_uri": "https://localhost:8080/"
        },
        "outputId": "cc667a24-412e-4e4e-8d76-c2be44d81a1b"
      },
      "source": [
        "# Define the scaler\r\n",
        "scaler = MinMaxScaler()\r\n",
        "\r\n",
        "# Fit & transform over train data\r\n",
        "X_train = pd.DataFrame(data = scaler.fit_transform(X_train), columns=X_train.columns)\r\n",
        "X_train.shape"
      ],
      "execution_count": null,
      "outputs": [
        {
          "output_type": "execute_result",
          "data": {
            "text/plain": [
              "(1456, 24)"
            ]
          },
          "metadata": {
            "tags": []
          },
          "execution_count": 10
        }
      ]
    },
    {
      "cell_type": "markdown",
      "metadata": {
        "id": "14xgZNFWxnPG"
      },
      "source": [
        "Remove index from the labels in order to easily handle data."
      ]
    },
    {
      "cell_type": "code",
      "metadata": {
        "id": "MIdcvTlAxRUm"
      },
      "source": [
        "y_train.reset_index(drop=True, inplace=True)"
      ],
      "execution_count": null,
      "outputs": []
    },
    {
      "cell_type": "markdown",
      "metadata": {
        "id": "-5y3ZZRPKjR9"
      },
      "source": [
        "Reshape "
      ]
    },
    {
      "cell_type": "code",
      "metadata": {
        "id": "-T-5AlxBKirX",
        "colab": {
          "base_uri": "https://localhost:8080/"
        },
        "outputId": "6b23033b-5ba1-436f-cf5e-befcdede6c0c"
      },
      "source": [
        "y_train = y_train.to_numpy()\r\n",
        "y_train = np.reshape(y_train, (len(y_train)))\r\n",
        "y_train.shape"
      ],
      "execution_count": null,
      "outputs": [
        {
          "output_type": "execute_result",
          "data": {
            "text/plain": [
              "(1456,)"
            ]
          },
          "metadata": {
            "tags": []
          },
          "execution_count": 12
        }
      ]
    },
    {
      "cell_type": "markdown",
      "metadata": {
        "id": "JGMZNGaByJwW"
      },
      "source": [
        "## Feature Selection\r\n"
      ]
    },
    {
      "cell_type": "markdown",
      "metadata": {
        "id": "51iTa8SfKmkd"
      },
      "source": [
        "In order to identify those features that are redundant and therefore do not contribute to the model, we will compute the correlation matrix between the different features that we can find in our training dataset.\r\n",
        "\r\n",
        "First, we compute the transposed dataset for our training dataset."
      ]
    },
    {
      "cell_type": "code",
      "metadata": {
        "colab": {
          "base_uri": "https://localhost:8080/",
          "height": 253
        },
        "id": "wGaA2E1tKlkc",
        "outputId": "c895c887-8805-4147-9ae5-082ef79a8945"
      },
      "source": [
        "transposed_df = transpose(X_train)\r\n",
        "names = transposed_df.index.values\r\n",
        "transposed_df.head()"
      ],
      "execution_count": null,
      "outputs": [
        {
          "output_type": "execute_result",
          "data": {
            "text/html": [
              "<div>\n",
              "<style scoped>\n",
              "    .dataframe tbody tr th:only-of-type {\n",
              "        vertical-align: middle;\n",
              "    }\n",
              "\n",
              "    .dataframe tbody tr th {\n",
              "        vertical-align: top;\n",
              "    }\n",
              "\n",
              "    .dataframe thead th {\n",
              "        text-align: right;\n",
              "    }\n",
              "</style>\n",
              "<table border=\"1\" class=\"dataframe\">\n",
              "  <thead>\n",
              "    <tr style=\"text-align: right;\">\n",
              "      <th></th>\n",
              "      <th>0</th>\n",
              "      <th>1</th>\n",
              "      <th>2</th>\n",
              "      <th>3</th>\n",
              "      <th>4</th>\n",
              "      <th>5</th>\n",
              "      <th>6</th>\n",
              "      <th>7</th>\n",
              "      <th>8</th>\n",
              "      <th>9</th>\n",
              "      <th>10</th>\n",
              "      <th>11</th>\n",
              "      <th>12</th>\n",
              "      <th>13</th>\n",
              "      <th>14</th>\n",
              "      <th>15</th>\n",
              "      <th>16</th>\n",
              "      <th>17</th>\n",
              "      <th>18</th>\n",
              "      <th>19</th>\n",
              "      <th>20</th>\n",
              "      <th>21</th>\n",
              "      <th>22</th>\n",
              "      <th>23</th>\n",
              "      <th>24</th>\n",
              "      <th>25</th>\n",
              "      <th>26</th>\n",
              "      <th>27</th>\n",
              "      <th>28</th>\n",
              "      <th>29</th>\n",
              "      <th>30</th>\n",
              "      <th>31</th>\n",
              "      <th>32</th>\n",
              "      <th>33</th>\n",
              "      <th>34</th>\n",
              "      <th>35</th>\n",
              "      <th>36</th>\n",
              "      <th>37</th>\n",
              "      <th>38</th>\n",
              "      <th>39</th>\n",
              "      <th>...</th>\n",
              "      <th>1416</th>\n",
              "      <th>1417</th>\n",
              "      <th>1418</th>\n",
              "      <th>1419</th>\n",
              "      <th>1420</th>\n",
              "      <th>1421</th>\n",
              "      <th>1422</th>\n",
              "      <th>1423</th>\n",
              "      <th>1424</th>\n",
              "      <th>1425</th>\n",
              "      <th>1426</th>\n",
              "      <th>1427</th>\n",
              "      <th>1428</th>\n",
              "      <th>1429</th>\n",
              "      <th>1430</th>\n",
              "      <th>1431</th>\n",
              "      <th>1432</th>\n",
              "      <th>1433</th>\n",
              "      <th>1434</th>\n",
              "      <th>1435</th>\n",
              "      <th>1436</th>\n",
              "      <th>1437</th>\n",
              "      <th>1438</th>\n",
              "      <th>1439</th>\n",
              "      <th>1440</th>\n",
              "      <th>1441</th>\n",
              "      <th>1442</th>\n",
              "      <th>1443</th>\n",
              "      <th>1444</th>\n",
              "      <th>1445</th>\n",
              "      <th>1446</th>\n",
              "      <th>1447</th>\n",
              "      <th>1448</th>\n",
              "      <th>1449</th>\n",
              "      <th>1450</th>\n",
              "      <th>1451</th>\n",
              "      <th>1452</th>\n",
              "      <th>1453</th>\n",
              "      <th>1454</th>\n",
              "      <th>1455</th>\n",
              "    </tr>\n",
              "  </thead>\n",
              "  <tbody>\n",
              "    <tr>\n",
              "      <th>ndvi_ne</th>\n",
              "      <td>0.578226</td>\n",
              "      <td>0.629943</td>\n",
              "      <td>0.479441</td>\n",
              "      <td>0.584823</td>\n",
              "      <td>0.658698</td>\n",
              "      <td>0.618738</td>\n",
              "      <td>0.567621</td>\n",
              "      <td>0.523449</td>\n",
              "      <td>0.556195</td>\n",
              "      <td>0.618738</td>\n",
              "      <td>0.655063</td>\n",
              "      <td>0.763005</td>\n",
              "      <td>0.608804</td>\n",
              "      <td>0.618738</td>\n",
              "      <td>0.561493</td>\n",
              "      <td>0.618738</td>\n",
              "      <td>0.652174</td>\n",
              "      <td>0.720692</td>\n",
              "      <td>0.701558</td>\n",
              "      <td>0.584094</td>\n",
              "      <td>0.658862</td>\n",
              "      <td>0.571120</td>\n",
              "      <td>0.694069</td>\n",
              "      <td>0.631309</td>\n",
              "      <td>0.561493</td>\n",
              "      <td>0.604030</td>\n",
              "      <td>0.719981</td>\n",
              "      <td>0.611027</td>\n",
              "      <td>0.762131</td>\n",
              "      <td>0.741794</td>\n",
              "      <td>0.593716</td>\n",
              "      <td>0.564231</td>\n",
              "      <td>0.576860</td>\n",
              "      <td>0.764682</td>\n",
              "      <td>0.774923</td>\n",
              "      <td>0.604358</td>\n",
              "      <td>0.618738</td>\n",
              "      <td>0.618738</td>\n",
              "      <td>0.806412</td>\n",
              "      <td>0.544441</td>\n",
              "      <td>...</td>\n",
              "      <td>0.765973</td>\n",
              "      <td>0.669741</td>\n",
              "      <td>0.698137</td>\n",
              "      <td>0.769362</td>\n",
              "      <td>0.768691</td>\n",
              "      <td>0.762084</td>\n",
              "      <td>0.869140</td>\n",
              "      <td>0.847491</td>\n",
              "      <td>0.889234</td>\n",
              "      <td>0.811676</td>\n",
              "      <td>0.825249</td>\n",
              "      <td>0.654325</td>\n",
              "      <td>0.682096</td>\n",
              "      <td>0.674248</td>\n",
              "      <td>0.651737</td>\n",
              "      <td>0.580382</td>\n",
              "      <td>0.603030</td>\n",
              "      <td>0.719833</td>\n",
              "      <td>0.732032</td>\n",
              "      <td>0.630161</td>\n",
              "      <td>0.696482</td>\n",
              "      <td>0.764864</td>\n",
              "      <td>0.776188</td>\n",
              "      <td>0.583384</td>\n",
              "      <td>0.785013</td>\n",
              "      <td>0.766285</td>\n",
              "      <td>0.735327</td>\n",
              "      <td>0.598818</td>\n",
              "      <td>0.709696</td>\n",
              "      <td>0.616588</td>\n",
              "      <td>0.697278</td>\n",
              "      <td>0.706306</td>\n",
              "      <td>0.729345</td>\n",
              "      <td>0.628615</td>\n",
              "      <td>0.731813</td>\n",
              "      <td>0.818931</td>\n",
              "      <td>0.619290</td>\n",
              "      <td>0.714304</td>\n",
              "      <td>0.809270</td>\n",
              "      <td>0.770206</td>\n",
              "    </tr>\n",
              "    <tr>\n",
              "      <th>ndvi_nw</th>\n",
              "      <td>0.614835</td>\n",
              "      <td>0.657063</td>\n",
              "      <td>0.690881</td>\n",
              "      <td>0.770066</td>\n",
              "      <td>0.788882</td>\n",
              "      <td>0.692949</td>\n",
              "      <td>0.602837</td>\n",
              "      <td>0.580542</td>\n",
              "      <td>0.661456</td>\n",
              "      <td>0.634412</td>\n",
              "      <td>0.591360</td>\n",
              "      <td>0.733530</td>\n",
              "      <td>0.689490</td>\n",
              "      <td>0.772354</td>\n",
              "      <td>0.571573</td>\n",
              "      <td>0.641532</td>\n",
              "      <td>0.686305</td>\n",
              "      <td>0.864168</td>\n",
              "      <td>0.720598</td>\n",
              "      <td>0.980969</td>\n",
              "      <td>0.701278</td>\n",
              "      <td>0.787455</td>\n",
              "      <td>0.709313</td>\n",
              "      <td>0.575105</td>\n",
              "      <td>0.578016</td>\n",
              "      <td>0.599487</td>\n",
              "      <td>0.702376</td>\n",
              "      <td>0.700555</td>\n",
              "      <td>0.747588</td>\n",
              "      <td>0.863729</td>\n",
              "      <td>0.738719</td>\n",
              "      <td>0.598224</td>\n",
              "      <td>0.788289</td>\n",
              "      <td>0.794008</td>\n",
              "      <td>0.805393</td>\n",
              "      <td>0.655187</td>\n",
              "      <td>0.611257</td>\n",
              "      <td>0.823331</td>\n",
              "      <td>0.840647</td>\n",
              "      <td>0.771557</td>\n",
              "      <td>...</td>\n",
              "      <td>0.798186</td>\n",
              "      <td>0.781257</td>\n",
              "      <td>0.800195</td>\n",
              "      <td>0.810816</td>\n",
              "      <td>0.839716</td>\n",
              "      <td>0.762250</td>\n",
              "      <td>0.910369</td>\n",
              "      <td>0.918211</td>\n",
              "      <td>0.868946</td>\n",
              "      <td>0.816961</td>\n",
              "      <td>0.819853</td>\n",
              "      <td>0.713463</td>\n",
              "      <td>0.764830</td>\n",
              "      <td>0.783322</td>\n",
              "      <td>0.696592</td>\n",
              "      <td>0.697648</td>\n",
              "      <td>0.657216</td>\n",
              "      <td>0.754052</td>\n",
              "      <td>0.754177</td>\n",
              "      <td>0.656999</td>\n",
              "      <td>0.708772</td>\n",
              "      <td>0.773099</td>\n",
              "      <td>0.786529</td>\n",
              "      <td>0.699879</td>\n",
              "      <td>0.822364</td>\n",
              "      <td>0.776550</td>\n",
              "      <td>0.831751</td>\n",
              "      <td>0.725764</td>\n",
              "      <td>0.800477</td>\n",
              "      <td>0.672922</td>\n",
              "      <td>0.824560</td>\n",
              "      <td>0.785666</td>\n",
              "      <td>0.781838</td>\n",
              "      <td>0.674993</td>\n",
              "      <td>0.800195</td>\n",
              "      <td>0.851154</td>\n",
              "      <td>0.677048</td>\n",
              "      <td>0.661327</td>\n",
              "      <td>0.770839</td>\n",
              "      <td>0.756782</td>\n",
              "    </tr>\n",
              "    <tr>\n",
              "      <th>ndvi_se</th>\n",
              "      <td>0.386418</td>\n",
              "      <td>0.321190</td>\n",
              "      <td>0.311879</td>\n",
              "      <td>0.438912</td>\n",
              "      <td>0.481601</td>\n",
              "      <td>0.487224</td>\n",
              "      <td>0.398313</td>\n",
              "      <td>0.301536</td>\n",
              "      <td>0.254772</td>\n",
              "      <td>0.318168</td>\n",
              "      <td>0.374609</td>\n",
              "      <td>0.571878</td>\n",
              "      <td>0.437726</td>\n",
              "      <td>0.713614</td>\n",
              "      <td>0.324956</td>\n",
              "      <td>0.401718</td>\n",
              "      <td>0.330760</td>\n",
              "      <td>0.505021</td>\n",
              "      <td>0.540492</td>\n",
              "      <td>0.250851</td>\n",
              "      <td>0.488152</td>\n",
              "      <td>0.388150</td>\n",
              "      <td>0.411700</td>\n",
              "      <td>0.352082</td>\n",
              "      <td>0.355964</td>\n",
              "      <td>0.260653</td>\n",
              "      <td>0.602211</td>\n",
              "      <td>0.350028</td>\n",
              "      <td>0.353742</td>\n",
              "      <td>0.265717</td>\n",
              "      <td>0.347242</td>\n",
              "      <td>0.509737</td>\n",
              "      <td>0.373603</td>\n",
              "      <td>0.499037</td>\n",
              "      <td>0.337277</td>\n",
              "      <td>0.301587</td>\n",
              "      <td>0.482864</td>\n",
              "      <td>0.497386</td>\n",
              "      <td>0.427125</td>\n",
              "      <td>0.468343</td>\n",
              "      <td>...</td>\n",
              "      <td>0.573451</td>\n",
              "      <td>0.533523</td>\n",
              "      <td>0.518382</td>\n",
              "      <td>0.490138</td>\n",
              "      <td>0.682197</td>\n",
              "      <td>0.601644</td>\n",
              "      <td>0.479253</td>\n",
              "      <td>0.714207</td>\n",
              "      <td>0.689781</td>\n",
              "      <td>0.615676</td>\n",
              "      <td>0.769431</td>\n",
              "      <td>0.461172</td>\n",
              "      <td>0.356244</td>\n",
              "      <td>0.427314</td>\n",
              "      <td>0.427279</td>\n",
              "      <td>0.323873</td>\n",
              "      <td>0.272337</td>\n",
              "      <td>0.366278</td>\n",
              "      <td>0.423230</td>\n",
              "      <td>0.240946</td>\n",
              "      <td>0.323228</td>\n",
              "      <td>0.401125</td>\n",
              "      <td>0.435172</td>\n",
              "      <td>0.245555</td>\n",
              "      <td>0.520214</td>\n",
              "      <td>0.536257</td>\n",
              "      <td>0.562489</td>\n",
              "      <td>0.481188</td>\n",
              "      <td>0.393257</td>\n",
              "      <td>0.360293</td>\n",
              "      <td>0.626870</td>\n",
              "      <td>0.583769</td>\n",
              "      <td>0.493466</td>\n",
              "      <td>0.268313</td>\n",
              "      <td>0.494368</td>\n",
              "      <td>0.490886</td>\n",
              "      <td>0.273679</td>\n",
              "      <td>0.480079</td>\n",
              "      <td>0.531588</td>\n",
              "      <td>0.523154</td>\n",
              "    </tr>\n",
              "    <tr>\n",
              "      <th>ndvi_sw</th>\n",
              "      <td>0.395544</td>\n",
              "      <td>0.359233</td>\n",
              "      <td>0.384430</td>\n",
              "      <td>0.491150</td>\n",
              "      <td>0.509943</td>\n",
              "      <td>0.402314</td>\n",
              "      <td>0.449123</td>\n",
              "      <td>0.322386</td>\n",
              "      <td>0.306916</td>\n",
              "      <td>0.436481</td>\n",
              "      <td>0.355037</td>\n",
              "      <td>0.564624</td>\n",
              "      <td>0.456155</td>\n",
              "      <td>0.729833</td>\n",
              "      <td>0.331949</td>\n",
              "      <td>0.380164</td>\n",
              "      <td>0.386797</td>\n",
              "      <td>0.570609</td>\n",
              "      <td>0.482219</td>\n",
              "      <td>0.347415</td>\n",
              "      <td>0.605675</td>\n",
              "      <td>0.504819</td>\n",
              "      <td>0.434215</td>\n",
              "      <td>0.362893</td>\n",
              "      <td>0.376074</td>\n",
              "      <td>0.307455</td>\n",
              "      <td>0.589619</td>\n",
              "      <td>0.410331</td>\n",
              "      <td>0.489509</td>\n",
              "      <td>0.309842</td>\n",
              "      <td>0.336426</td>\n",
              "      <td>0.517097</td>\n",
              "      <td>0.448654</td>\n",
              "      <td>0.600823</td>\n",
              "      <td>0.369301</td>\n",
              "      <td>0.378640</td>\n",
              "      <td>0.329914</td>\n",
              "      <td>0.461639</td>\n",
              "      <td>0.436794</td>\n",
              "      <td>0.425050</td>\n",
              "      <td>...</td>\n",
              "      <td>0.520894</td>\n",
              "      <td>0.443193</td>\n",
              "      <td>0.572367</td>\n",
              "      <td>0.628809</td>\n",
              "      <td>0.697510</td>\n",
              "      <td>0.533341</td>\n",
              "      <td>0.716145</td>\n",
              "      <td>0.871876</td>\n",
              "      <td>0.742948</td>\n",
              "      <td>0.690854</td>\n",
              "      <td>0.711949</td>\n",
              "      <td>0.573188</td>\n",
              "      <td>0.534489</td>\n",
              "      <td>0.596765</td>\n",
              "      <td>0.390065</td>\n",
              "      <td>0.326394</td>\n",
              "      <td>0.378992</td>\n",
              "      <td>0.600916</td>\n",
              "      <td>0.532825</td>\n",
              "      <td>0.332746</td>\n",
              "      <td>0.496048</td>\n",
              "      <td>0.541662</td>\n",
              "      <td>0.651007</td>\n",
              "      <td>0.338364</td>\n",
              "      <td>0.751890</td>\n",
              "      <td>0.664672</td>\n",
              "      <td>0.589361</td>\n",
              "      <td>0.342427</td>\n",
              "      <td>0.530903</td>\n",
              "      <td>0.327074</td>\n",
              "      <td>0.505120</td>\n",
              "      <td>0.609378</td>\n",
              "      <td>0.662445</td>\n",
              "      <td>0.343012</td>\n",
              "      <td>0.505284</td>\n",
              "      <td>0.584064</td>\n",
              "      <td>0.474367</td>\n",
              "      <td>0.487587</td>\n",
              "      <td>0.638162</td>\n",
              "      <td>0.622199</td>\n",
              "    </tr>\n",
              "    <tr>\n",
              "      <th>precipitation_amt_mm</th>\n",
              "      <td>0.031797</td>\n",
              "      <td>0.058423</td>\n",
              "      <td>0.088428</td>\n",
              "      <td>0.039324</td>\n",
              "      <td>0.019252</td>\n",
              "      <td>0.024526</td>\n",
              "      <td>0.008909</td>\n",
              "      <td>0.386892</td>\n",
              "      <td>0.049462</td>\n",
              "      <td>0.036892</td>\n",
              "      <td>0.057015</td>\n",
              "      <td>0.151485</td>\n",
              "      <td>0.042192</td>\n",
              "      <td>0.083615</td>\n",
              "      <td>0.073733</td>\n",
              "      <td>0.232335</td>\n",
              "      <td>0.082949</td>\n",
              "      <td>0.104813</td>\n",
              "      <td>0.073886</td>\n",
              "      <td>0.165284</td>\n",
              "      <td>0.367972</td>\n",
              "      <td>0.131567</td>\n",
              "      <td>0.079826</td>\n",
              "      <td>0.131644</td>\n",
              "      <td>0.367512</td>\n",
              "      <td>0.325218</td>\n",
              "      <td>0.259473</td>\n",
              "      <td>0.052381</td>\n",
              "      <td>0.051203</td>\n",
              "      <td>0.051306</td>\n",
              "      <td>0.086047</td>\n",
              "      <td>0.025499</td>\n",
              "      <td>0.000000</td>\n",
              "      <td>0.134281</td>\n",
              "      <td>0.000000</td>\n",
              "      <td>0.000000</td>\n",
              "      <td>0.040579</td>\n",
              "      <td>0.000000</td>\n",
              "      <td>0.000000</td>\n",
              "      <td>0.000000</td>\n",
              "      <td>...</td>\n",
              "      <td>0.201434</td>\n",
              "      <td>0.146390</td>\n",
              "      <td>0.052688</td>\n",
              "      <td>0.078059</td>\n",
              "      <td>0.211444</td>\n",
              "      <td>0.198105</td>\n",
              "      <td>0.117230</td>\n",
              "      <td>0.246365</td>\n",
              "      <td>0.076088</td>\n",
              "      <td>0.097721</td>\n",
              "      <td>0.188044</td>\n",
              "      <td>0.219201</td>\n",
              "      <td>0.207911</td>\n",
              "      <td>0.252919</td>\n",
              "      <td>0.013526</td>\n",
              "      <td>0.069227</td>\n",
              "      <td>0.084460</td>\n",
              "      <td>0.048746</td>\n",
              "      <td>0.354608</td>\n",
              "      <td>0.121121</td>\n",
              "      <td>0.200333</td>\n",
              "      <td>0.082412</td>\n",
              "      <td>0.216769</td>\n",
              "      <td>0.206298</td>\n",
              "      <td>0.147926</td>\n",
              "      <td>0.310292</td>\n",
              "      <td>0.131311</td>\n",
              "      <td>0.127496</td>\n",
              "      <td>0.240041</td>\n",
              "      <td>0.044368</td>\n",
              "      <td>0.221966</td>\n",
              "      <td>0.066564</td>\n",
              "      <td>0.189375</td>\n",
              "      <td>0.152074</td>\n",
              "      <td>0.002944</td>\n",
              "      <td>0.141577</td>\n",
              "      <td>0.221377</td>\n",
              "      <td>0.150896</td>\n",
              "      <td>0.152765</td>\n",
              "      <td>0.161854</td>\n",
              "    </tr>\n",
              "  </tbody>\n",
              "</table>\n",
              "<p>5 rows × 1456 columns</p>\n",
              "</div>"
            ],
            "text/plain": [
              "                          0         1     ...      1454      1455\n",
              "ndvi_ne               0.578226  0.629943  ...  0.809270  0.770206\n",
              "ndvi_nw               0.614835  0.657063  ...  0.770839  0.756782\n",
              "ndvi_se               0.386418  0.321190  ...  0.531588  0.523154\n",
              "ndvi_sw               0.395544  0.359233  ...  0.638162  0.622199\n",
              "precipitation_amt_mm  0.031797  0.058423  ...  0.152765  0.161854\n",
              "\n",
              "[5 rows x 1456 columns]"
            ]
          },
          "metadata": {
            "tags": []
          },
          "execution_count": 13
        }
      ]
    },
    {
      "cell_type": "markdown",
      "metadata": {
        "id": "KAGmEyhsijUS"
      },
      "source": [
        "We calculate the correlation matrix and show a heat map showing such correlation between features."
      ]
    },
    {
      "cell_type": "code",
      "metadata": {
        "colab": {
          "base_uri": "https://localhost:8080/",
          "height": 760
        },
        "id": "CPvmHIiXyM4F",
        "outputId": "b54a68c9-b366-4898-946b-6894d60b79b0"
      },
      "source": [
        "R = corrcoef(transposed_df)\r\n",
        "\r\n",
        "# Generate a mask for the upper triangle\r\n",
        "sns.set(style=\"white\")\r\n",
        "mask = np.zeros_like(R, dtype=np.bool)\r\n",
        "mask[np.triu_indices_from(mask)] = True\r\n",
        "\r\n",
        "# Set up the matplotlib figure\r\n",
        "f, ax = plt.subplots(figsize=(11, 9))\r\n",
        "\r\n",
        "# Generate a custom diverging colormap\r\n",
        "cmap = sns.diverging_palette(200, 10, as_cmap=True)\r\n",
        "\r\n",
        "# Draw the heatmap with the mask and correct aspect ratio\r\n",
        "sns.heatmap(R, mask=mask, cmap=cmap, vmax=.8,\r\n",
        "            square=True, xticklabels=names, yticklabels=names,\r\n",
        "            linewidths=.5, cbar_kws={\"shrink\": .5}, ax=ax)"
      ],
      "execution_count": null,
      "outputs": [
        {
          "output_type": "execute_result",
          "data": {
            "text/plain": [
              "<matplotlib.axes._subplots.AxesSubplot at 0x7f6273fd1978>"
            ]
          },
          "metadata": {
            "tags": []
          },
          "execution_count": 14
        },
        {
          "output_type": "display_data",
          "data": {
            "image/png": "[encoded data removed]",
            "text/plain": [
              "<Figure size 792x648 with 2 Axes>"
            ]
          },
          "metadata": {
            "tags": []
          }
        }
      ]
    },
    {
      "cell_type": "markdown",
      "metadata": {
        "id": "Y12aAtIFj2lW"
      },
      "source": [
        "Some features are correlated between them (nvdi_xx features for example) but they are not correlated enought to conclude that they are redundant. We will continue the feature selection being conscious of this correlations."
      ]
    },
    {
      "cell_type": "markdown",
      "metadata": {
        "id": "X5Ii58JCDF62"
      },
      "source": [
        "After this first impression, lets use a class from scikit learn for feature selection. We'll use the SelectPercentile Class, which allow us to select features according to a percentile of the highest scores. \r\n",
        "\r\n",
        "We used 'f_regression' as score function, which compute F-value between label/feature for regression tasks."
      ]
    },
    {
      "cell_type": "code",
      "metadata": {
        "colab": {
          "base_uri": "https://localhost:8080/"
        },
        "id": "3dKDUNxMEx9N",
        "outputId": "45dcc9a2-b7cf-41ab-bbcc-72befe3cb70e"
      },
      "source": [
        "X_train.shape"
      ],
      "execution_count": null,
      "outputs": [
        {
          "output_type": "execute_result",
          "data": {
            "text/plain": [
              "(1456, 24)"
            ]
          },
          "metadata": {
            "tags": []
          },
          "execution_count": 15
        }
      ]
    },
    {
      "cell_type": "code",
      "metadata": {
        "colab": {
          "base_uri": "https://localhost:8080/"
        },
        "id": "4vYdk6AXDGLJ",
        "outputId": "9ac943a3-21e8-4ffe-f9af-d8e5adf67d28"
      },
      "source": [
        "feature_selector = SelectPercentile(f_regression, percentile=80)\r\n",
        "New_X_train = feature_selector.fit_transform(X_train, y_train)\r\n",
        "New_X_train.shape"
      ],
      "execution_count": null,
      "outputs": [
        {
          "output_type": "execute_result",
          "data": {
            "text/plain": [
              "(1456, 19)"
            ]
          },
          "metadata": {
            "tags": []
          },
          "execution_count": 16
        }
      ]
    },
    {
      "cell_type": "code",
      "metadata": {
        "colab": {
          "base_uri": "https://localhost:8080/"
        },
        "id": "onl5WyaPM4Cx",
        "outputId": "ab4fa5d8-7005-4983-debe-9b37f242f0d2"
      },
      "source": [
        "features_names = np.asarray(X_train.columns)[feature_selector.get_support()]\r\n",
        "features_names"
      ],
      "execution_count": null,
      "outputs": [
        {
          "output_type": "execute_result",
          "data": {
            "text/plain": [
              "array(['ndvi_ne', 'ndvi_nw', 'ndvi_se', 'ndvi_sw',\n",
              "       'reanalysis_air_temp_k', 'reanalysis_avg_temp_k',\n",
              "       'reanalysis_dew_point_temp_k', 'reanalysis_max_air_temp_k',\n",
              "       'reanalysis_min_air_temp_k',\n",
              "       'reanalysis_relative_humidity_percent',\n",
              "       'reanalysis_specific_humidity_g_per_kg', 'reanalysis_tdtr_k',\n",
              "       'station_avg_temp_c', 'station_diur_temp_rng_c',\n",
              "       'station_min_temp_c', 'station_precip_mm', 'month_cos',\n",
              "       'season_cos', 'season_sin'], dtype=object)"
            ]
          },
          "metadata": {
            "tags": []
          },
          "execution_count": 17
        }
      ]
    },
    {
      "cell_type": "markdown",
      "metadata": {
        "id": "C6YopQpXOGC1"
      },
      "source": [
        "As we can see, in this new features we have every ndvi_xx features, which had a strong correlation between them, so we are going to drop 3 of this features in order to reduce even more this features."
      ]
    },
    {
      "cell_type": "code",
      "metadata": {
        "colab": {
          "base_uri": "https://localhost:8080/"
        },
        "id": "-q1eMIvuOW4i",
        "outputId": "c93f19d9-a83d-4086-e2aa-9f438b878a19"
      },
      "source": [
        "features_names = np.delete(features_names, [0, 2, 3])\r\n",
        "features_names"
      ],
      "execution_count": null,
      "outputs": [
        {
          "output_type": "execute_result",
          "data": {
            "text/plain": [
              "array(['ndvi_nw', 'reanalysis_air_temp_k', 'reanalysis_avg_temp_k',\n",
              "       'reanalysis_dew_point_temp_k', 'reanalysis_max_air_temp_k',\n",
              "       'reanalysis_min_air_temp_k',\n",
              "       'reanalysis_relative_humidity_percent',\n",
              "       'reanalysis_specific_humidity_g_per_kg', 'reanalysis_tdtr_k',\n",
              "       'station_avg_temp_c', 'station_diur_temp_rng_c',\n",
              "       'station_min_temp_c', 'station_precip_mm', 'month_cos',\n",
              "       'season_cos', 'season_sin'], dtype=object)"
            ]
          },
          "metadata": {
            "tags": []
          },
          "execution_count": 18
        }
      ]
    },
    {
      "cell_type": "markdown",
      "metadata": {
        "id": "FaOVDPy1EmhV"
      },
      "source": [
        "Lets see the new X for train."
      ]
    },
    {
      "cell_type": "code",
      "metadata": {
        "colab": {
          "base_uri": "https://localhost:8080/"
        },
        "id": "GQBi4Aj7Ev8S",
        "outputId": "2bece350-e465-43f3-d689-f0a0b77bb512"
      },
      "source": [
        "New_X_train = X_train[features_names]\r\n",
        "New_X_train = New_X_train.to_numpy()\r\n",
        "New_X_train"
      ],
      "execution_count": null,
      "outputs": [
        {
          "output_type": "execute_result",
          "data": {
            "text/plain": [
              "array([[0.61483516, 0.38829084, 0.35466667, ..., 0.        , 0.55526223,\n",
              "        0.66754738],\n",
              "       [0.65706338, 0.4727101 , 0.44177778, ..., 1.        , 0.55526223,\n",
              "        0.66754738],\n",
              "       [0.69088077, 0.54806421, 0.496     , ..., 1.        , 0.55526223,\n",
              "        0.66754738],\n",
              "       ...,\n",
              "       [0.66132695, 0.25949009, 0.336     , ..., 0.99172098, 0.55526223,\n",
              "        0.66754738],\n",
              "       [0.77083949, 0.22606232, 0.32711111, ..., 0.99172098, 0.55526223,\n",
              "        0.66754738],\n",
              "       [0.75678172, 0.45760151, 0.61511111, ..., 0.99172098, 0.        ,\n",
              "        1.        ]])"
            ]
          },
          "metadata": {
            "tags": []
          },
          "execution_count": 19
        }
      ]
    },
    {
      "cell_type": "markdown",
      "metadata": {
        "id": "48SArhRZyPwF"
      },
      "source": [
        "## Random Forest Models with GridSearch Optimization"
      ]
    },
    {
      "cell_type": "markdown",
      "metadata": {
        "id": "2AiZ9JWS1Rr2"
      },
      "source": [
        "First, we'll choose a model that will be our regressor. "
      ]
    },
    {
      "cell_type": "code",
      "metadata": {
        "colab": {
          "base_uri": "https://localhost:8080/"
        },
        "id": "iWU6mfYd1RFb",
        "outputId": "92dd849a-031b-43e6-b945-8dc78a8a07a4"
      },
      "source": [
        "model = RandomForestRegressor() \r\n",
        "model"
      ],
      "execution_count": null,
      "outputs": [
        {
          "output_type": "execute_result",
          "data": {
            "text/plain": [
              "RandomForestRegressor(bootstrap=True, ccp_alpha=0.0, criterion='mse',\n",
              "                      max_depth=None, max_features='auto', max_leaf_nodes=None,\n",
              "                      max_samples=None, min_impurity_decrease=0.0,\n",
              "                      min_impurity_split=None, min_samples_leaf=1,\n",
              "                      min_samples_split=2, min_weight_fraction_leaf=0.0,\n",
              "                      n_estimators=100, n_jobs=None, oob_score=False,\n",
              "                      random_state=None, verbose=0, warm_start=False)"
            ]
          },
          "metadata": {
            "tags": []
          },
          "execution_count": 20
        }
      ]
    },
    {
      "cell_type": "markdown",
      "metadata": {
        "id": "Nv5vf-CZ86Ag"
      },
      "source": [
        "Then, we define a function to report best results of GridSearch Hyperparameter optimization."
      ]
    },
    {
      "cell_type": "code",
      "metadata": {
        "id": "wzhe6Y02yQvb"
      },
      "source": [
        "# Show the N best models(Specified in 'n_top' parameter) given results of Gridsearch Hyperparameter Optimization\r\n",
        "def report(results, n_top=3): \r\n",
        "    # Iterate over range between 1 and n_top + 1\r\n",
        "    for i in range(1, n_top + 1):\r\n",
        "        # Get N-best models in results\r\n",
        "        candidates = np.flatnonzero(results['rank_test_score'] == i)\r\n",
        "        # For each candidate, show rank, scores and parameters\r\n",
        "        for candidate in candidates:\r\n",
        "            print(\"Model with rank: {0}\".format(i))\r\n",
        "            print(\"Mean validation score: {0:.3f} (std: {1:.3f})\".format(\r\n",
        "                  results['mean_test_score'][candidate],\r\n",
        "                  results['std_test_score'][candidate]))\r\n",
        "            print(\"Parameters: {0}\".format(results['params'][candidate]))\r\n",
        "            print(\"\")\r\n"
      ],
      "execution_count": null,
      "outputs": []
    },
    {
      "cell_type": "markdown",
      "metadata": {
        "id": "PWyGUzu8BmXc"
      },
      "source": [
        "We'll use the Grid Search aproach for hyperparameter optimization. This aproach allow us to methodically construct and evaluate a model for each combination of specified algorithm parameters in a grid.\r\n",
        "\r\n",
        "First of all, we need to define the set of parameters to be used in the GridSearch."
      ]
    },
    {
      "cell_type": "code",
      "metadata": {
        "id": "GYq0wvftBmum"
      },
      "source": [
        "param_dict = {\"n_estimators\": [16, 32, 64, 128, 256, 512, 1024, 2048],          # Number of trees in random forest\r\n",
        "              \"criterion\": ['mse'],                                      # Function to measure the quality of a split\r\n",
        "              \"max_depth\": [2, 4, 8, 12, 16, None],                             # Maximum number of levels in tree\r\n",
        "              \"min_samples_split\": sp_randint(2, 50),                           # Minimum number of samples required to split a node\r\n",
        "              \"min_samples_leaf\": sp_randint(1, 50),                            # Minimum number of samples required at each leaf node\r\n",
        "              \"max_features\": ['auto', 'sqrt', 'log2'],                         # Number of features to consider at every split\r\n",
        "              \"bootstrap\": [True, False],                                       # Method of selecting samples for training each tree\r\n",
        "            }"
      ],
      "execution_count": null,
      "outputs": []
    },
    {
      "cell_type": "markdown",
      "metadata": {
        "id": "3BuTXVS0QDmq"
      },
      "source": [
        "Define the cross validater we'll use in GridSearch Hyperparameter Optimization"
      ]
    },
    {
      "cell_type": "code",
      "metadata": {
        "id": "XAlayJA4QDq6"
      },
      "source": [
        "cross_validator = TimeSeriesSplit(n_splits = 4)\r\n"
      ],
      "execution_count": null,
      "outputs": []
    },
    {
      "cell_type": "markdown",
      "metadata": {
        "id": "3KOEqbIXLlZA"
      },
      "source": [
        "Then, we run the search."
      ]
    },
    {
      "cell_type": "code",
      "metadata": {
        "colab": {
          "base_uri": "https://localhost:8080/"
        },
        "id": "fQVmQX82LpNL",
        "outputId": "1917232e-7466-4d67-b1fc-a34e07c3ea0e"
      },
      "source": [
        "rand_search = RandomizedSearchCV(estimator = model, param_distributions = param_dict, n_iter = 250, cv = cross_validator, verbose = 4, random_state=0, n_jobs = -1)\r\n",
        "\r\n",
        "# Fit the random search model\r\n",
        "rand_search.fit(X = New_X_train, y = y_train)"
      ],
      "execution_count": null,
      "outputs": [
        {
          "output_type": "stream",
          "text": [
            "Fitting 4 folds for each of 250 candidates, totalling 1000 fits\n"
          ],
          "name": "stdout"
        },
        {
          "output_type": "stream",
          "text": [
            "[Parallel(n_jobs=-1)]: Using backend LokyBackend with 2 concurrent workers.\n"
          ],
          "name": "stderr"
        }
      ]
    },
    {
      "cell_type": "markdown",
      "metadata": {
        "id": "SKdqzPDtTzc9"
      },
      "source": [
        "Show the N best models on GridSearch results"
      ]
    },
    {
      "cell_type": "code",
      "metadata": {
        "colab": {
          "base_uri": "https://localhost:8080/"
        },
        "id": "xJEpPSGzUUHW",
        "outputId": "0327cf47-ad34-485c-b63e-877fd96944b6"
      },
      "source": [
        "#@title Number of models to get from Grid Search results\r\n",
        "N_best_models = 10 #@param {type:\"slider\", min:1, max:15, step:1}\r\n",
        "\r\n",
        "report(rand_search.cv_results_, n_top = N_best_models)"
      ],
      "execution_count": null,
      "outputs": [
        {
          "output_type": "stream",
          "text": [
            "Model with rank: 1\n",
            "Mean validation score: -0.968 (std: 1.363)\n",
            "Parameters: {'bootstrap': False, 'criterion': 'mse', 'max_depth': 12, 'max_features': 'sqrt', 'min_samples_leaf': 8, 'min_samples_split': 28, 'n_estimators': 16}\n",
            "\n",
            "Model with rank: 2\n",
            "Mean validation score: -1.091 (std: 1.385)\n",
            "Parameters: {'bootstrap': False, 'criterion': 'mse', 'max_depth': 8, 'max_features': 'auto', 'min_samples_leaf': 20, 'min_samples_split': 28, 'n_estimators': 1024}\n",
            "\n",
            "Model with rank: 3\n",
            "Mean validation score: -1.126 (std: 1.417)\n",
            "Parameters: {'bootstrap': False, 'criterion': 'mse', 'max_depth': 12, 'max_features': 'auto', 'min_samples_leaf': 18, 'min_samples_split': 5, 'n_estimators': 512}\n",
            "\n",
            "Model with rank: 4\n",
            "Mean validation score: -1.157 (std: 1.643)\n",
            "Parameters: {'bootstrap': False, 'criterion': 'mse', 'max_depth': 16, 'max_features': 'auto', 'min_samples_leaf': 10, 'min_samples_split': 25, 'n_estimators': 16}\n",
            "\n",
            "Model with rank: 5\n",
            "Mean validation score: -1.168 (std: 1.545)\n",
            "Parameters: {'bootstrap': False, 'criterion': 'mse', 'max_depth': 4, 'max_features': 'auto', 'min_samples_leaf': 16, 'min_samples_split': 40, 'n_estimators': 1024}\n",
            "\n",
            "Model with rank: 6\n",
            "Mean validation score: -1.190 (std: 1.529)\n",
            "Parameters: {'bootstrap': False, 'criterion': 'mse', 'max_depth': 12, 'max_features': 'auto', 'min_samples_leaf': 19, 'min_samples_split': 12, 'n_estimators': 64}\n",
            "\n",
            "Model with rank: 7\n",
            "Mean validation score: -1.196 (std: 1.687)\n",
            "Parameters: {'bootstrap': False, 'criterion': 'mse', 'max_depth': 16, 'max_features': 'auto', 'min_samples_leaf': 22, 'min_samples_split': 26, 'n_estimators': 32}\n",
            "\n",
            "Model with rank: 8\n",
            "Mean validation score: -1.196 (std: 1.687)\n",
            "Parameters: {'bootstrap': False, 'criterion': 'mse', 'max_depth': 16, 'max_features': 'auto', 'min_samples_leaf': 22, 'min_samples_split': 20, 'n_estimators': 32}\n",
            "\n",
            "Model with rank: 9\n",
            "Mean validation score: -1.255 (std: 1.544)\n",
            "Parameters: {'bootstrap': False, 'criterion': 'mse', 'max_depth': 12, 'max_features': 'auto', 'min_samples_leaf': 13, 'min_samples_split': 39, 'n_estimators': 256}\n",
            "\n",
            "Model with rank: 10\n",
            "Mean validation score: -1.262 (std: 1.786)\n",
            "Parameters: {'bootstrap': False, 'criterion': 'mse', 'max_depth': 4, 'max_features': 'sqrt', 'min_samples_leaf': 10, 'min_samples_split': 2, 'n_estimators': 128}\n",
            "\n"
          ],
          "name": "stdout"
        }
      ]
    },
    {
      "cell_type": "markdown",
      "metadata": {
        "id": "yXH4tihTWF1h"
      },
      "source": [
        "Obtain the best model"
      ]
    },
    {
      "cell_type": "code",
      "metadata": {
        "id": "5k6IqiQ3WFWs",
        "colab": {
          "base_uri": "https://localhost:8080/"
        },
        "outputId": "98b3ae78-86ee-40e9-8d16-7ffc98d641ef"
      },
      "source": [
        "# Select the best model\r\n",
        "best_model = rand_search.best_estimator_\r\n",
        "\r\n",
        "#Our best model, to test remove next '#'\r\n",
        "#best_model = RandomForestRegressor(n_estimators=16, criterion='mse', max_depth=12, min_samples_split=28, min_samples_leaf=8, max_features='sqrt', bootstrap=False)\r\n",
        "\r\n",
        "# Fit the model\r\n",
        "best_model.fit(X = New_X_train, y = y_train)"
      ],
      "execution_count": null,
      "outputs": [
        {
          "output_type": "execute_result",
          "data": {
            "text/plain": [
              "RandomForestRegressor(bootstrap=False, ccp_alpha=0.0, criterion='mse',\n",
              "                      max_depth=12, max_features='sqrt', max_leaf_nodes=None,\n",
              "                      max_samples=None, min_impurity_decrease=0.0,\n",
              "                      min_impurity_split=None, min_samples_leaf=8,\n",
              "                      min_samples_split=28, min_weight_fraction_leaf=0.0,\n",
              "                      n_estimators=16, n_jobs=None, oob_score=False,\n",
              "                      random_state=None, verbose=0, warm_start=False)"
            ]
          },
          "metadata": {
            "tags": []
          },
          "execution_count": 24
        }
      ]
    },
    {
      "cell_type": "markdown",
      "metadata": {
        "id": "Anx263_8WfqV"
      },
      "source": [
        "# Predict & export results"
      ]
    },
    {
      "cell_type": "markdown",
      "metadata": {
        "id": "WiV1gsUrkc5i"
      },
      "source": [
        "First, lets add the same features we did before on the training data."
      ]
    },
    {
      "cell_type": "code",
      "metadata": {
        "id": "oKYnmTLClNDB"
      },
      "source": [
        "X_test[\"week_start_date\"] = pd.to_datetime(X_test[\"week_start_date\"])\r\n",
        "X_test[\"month\"] = X_test[\"week_start_date\"].dt.month\r\n",
        "X_test[\"season\"] = X_test[\"week_start_date\"].apply(lambda x: get_season(x))\r\n",
        "\r\n",
        "X_test[\"month_cos\"] = X_test.apply(lambda x: cos( ((x['month']-5)%12) / (12.0 * 2 * pi)), axis=1)\r\n",
        "X_test[\"month_sin\"] = X_test.apply(lambda x: sin( ((x['month']-5)%12) / (12.0 * 2 * pi)), axis=1)\r\n",
        "X_test[\"season_cos\"] = X_test.apply(lambda x: cos( ((x['season']-3)%4) / (4.0 * 2 * pi)), axis=1)\r\n",
        "X_test[\"season_sin\"] = X_test.apply(lambda x: sin( ((x['season']-3)%4) / (4.0 * 2 * pi)), axis=1)"
      ],
      "execution_count": null,
      "outputs": []
    },
    {
      "cell_type": "markdown",
      "metadata": {
        "id": "p5ZHPptPXOW5"
      },
      "source": [
        "Our test data has null values, so first of all, we have to fill such values. For this porpuse, we'll use the imputer used previously for training data."
      ]
    },
    {
      "cell_type": "code",
      "metadata": {
        "id": "h-IRkubVWBSX"
      },
      "source": [
        "# Drop useless features\r\n",
        "X_test = X_test.drop(\"week_start_date\", axis = 1)\r\n",
        "X_test = X_test.drop(\"month\", axis = 1)\r\n",
        "X_test = X_test.drop(\"season\", axis = 1)"
      ],
      "execution_count": null,
      "outputs": []
    },
    {
      "cell_type": "code",
      "metadata": {
        "colab": {
          "base_uri": "https://localhost:8080/"
        },
        "id": "VNIXq4i04_7m",
        "outputId": "f11c8538-8ab0-46cd-8b59-562c97c5b345"
      },
      "source": [
        "# Remove null values\r\n",
        "X_test[:] = imputer.transform(X_test)\r\n",
        "pd.isnull(X_test).any()"
      ],
      "execution_count": null,
      "outputs": [
        {
          "output_type": "execute_result",
          "data": {
            "text/plain": [
              "ndvi_ne                                  False\n",
              "ndvi_nw                                  False\n",
              "ndvi_se                                  False\n",
              "ndvi_sw                                  False\n",
              "precipitation_amt_mm                     False\n",
              "reanalysis_air_temp_k                    False\n",
              "reanalysis_avg_temp_k                    False\n",
              "reanalysis_dew_point_temp_k              False\n",
              "reanalysis_max_air_temp_k                False\n",
              "reanalysis_min_air_temp_k                False\n",
              "reanalysis_precip_amt_kg_per_m2          False\n",
              "reanalysis_relative_humidity_percent     False\n",
              "reanalysis_sat_precip_amt_mm             False\n",
              "reanalysis_specific_humidity_g_per_kg    False\n",
              "reanalysis_tdtr_k                        False\n",
              "station_avg_temp_c                       False\n",
              "station_diur_temp_rng_c                  False\n",
              "station_max_temp_c                       False\n",
              "station_min_temp_c                       False\n",
              "station_precip_mm                        False\n",
              "month_cos                                False\n",
              "month_sin                                False\n",
              "season_cos                               False\n",
              "season_sin                               False\n",
              "dtype: bool"
            ]
          },
          "metadata": {
            "tags": []
          },
          "execution_count": 27
        }
      ]
    },
    {
      "cell_type": "markdown",
      "metadata": {
        "id": "GIWvqqV0YnID"
      },
      "source": [
        "Then, we normalize data using the scaler previously fit on training data."
      ]
    },
    {
      "cell_type": "code",
      "metadata": {
        "id": "ES2jNxyhWBW-",
        "colab": {
          "base_uri": "https://localhost:8080/",
          "height": 224
        },
        "outputId": "e42cba5d-d25f-41da-f53c-12242d9142a5"
      },
      "source": [
        "# Save index from test data\r\n",
        "test_index = X_test.index\r\n",
        "\r\n",
        "# Use scaler over test data\r\n",
        "New_X_test = pd.DataFrame(data = scaler.transform(X_test), columns=X_test.columns)\r\n",
        "\r\n",
        "# Select features like we did over training data\r\n",
        "New_X_test = New_X_test[features_names]\r\n",
        "New_X_test.head()"
      ],
      "execution_count": null,
      "outputs": [
        {
          "output_type": "execute_result",
          "data": {
            "text/html": [
              "<div>\n",
              "<style scoped>\n",
              "    .dataframe tbody tr th:only-of-type {\n",
              "        vertical-align: middle;\n",
              "    }\n",
              "\n",
              "    .dataframe tbody tr th {\n",
              "        vertical-align: top;\n",
              "    }\n",
              "\n",
              "    .dataframe thead th {\n",
              "        text-align: right;\n",
              "    }\n",
              "</style>\n",
              "<table border=\"1\" class=\"dataframe\">\n",
              "  <thead>\n",
              "    <tr style=\"text-align: right;\">\n",
              "      <th></th>\n",
              "      <th>ndvi_nw</th>\n",
              "      <th>reanalysis_air_temp_k</th>\n",
              "      <th>reanalysis_avg_temp_k</th>\n",
              "      <th>reanalysis_dew_point_temp_k</th>\n",
              "      <th>reanalysis_max_air_temp_k</th>\n",
              "      <th>reanalysis_min_air_temp_k</th>\n",
              "      <th>reanalysis_relative_humidity_percent</th>\n",
              "      <th>reanalysis_specific_humidity_g_per_kg</th>\n",
              "      <th>reanalysis_tdtr_k</th>\n",
              "      <th>station_avg_temp_c</th>\n",
              "      <th>station_diur_temp_rng_c</th>\n",
              "      <th>station_min_temp_c</th>\n",
              "      <th>station_precip_mm</th>\n",
              "      <th>month_cos</th>\n",
              "      <th>season_cos</th>\n",
              "      <th>season_sin</th>\n",
              "    </tr>\n",
              "  </thead>\n",
              "  <tbody>\n",
              "    <tr>\n",
              "      <th>0</th>\n",
              "      <td>0.480161</td>\n",
              "      <td>0.509915</td>\n",
              "      <td>0.455111</td>\n",
              "      <td>0.554582</td>\n",
              "      <td>0.203704</td>\n",
              "      <td>0.730769</td>\n",
              "      <td>0.514278</td>\n",
              "      <td>0.480562</td>\n",
              "      <td>0.120740</td>\n",
              "      <td>0.545593</td>\n",
              "      <td>0.224335</td>\n",
              "      <td>0.642202</td>\n",
              "      <td>0.138413</td>\n",
              "      <td>0.0</td>\n",
              "      <td>0.555262</td>\n",
              "      <td>0.667547</td>\n",
              "    </tr>\n",
              "    <tr>\n",
              "      <th>1</th>\n",
              "      <td>0.487299</td>\n",
              "      <td>0.507649</td>\n",
              "      <td>0.456000</td>\n",
              "      <td>0.539659</td>\n",
              "      <td>0.185185</td>\n",
              "      <td>0.753846</td>\n",
              "      <td>0.500770</td>\n",
              "      <td>0.466024</td>\n",
              "      <td>0.082765</td>\n",
              "      <td>0.496960</td>\n",
              "      <td>0.091255</td>\n",
              "      <td>0.688073</td>\n",
              "      <td>0.063133</td>\n",
              "      <td>1.0</td>\n",
              "      <td>0.555262</td>\n",
              "      <td>0.667547</td>\n",
              "    </tr>\n",
              "    <tr>\n",
              "      <th>2</th>\n",
              "      <td>0.635401</td>\n",
              "      <td>0.637205</td>\n",
              "      <td>0.555556</td>\n",
              "      <td>0.643309</td>\n",
              "      <td>0.271605</td>\n",
              "      <td>0.730769</td>\n",
              "      <td>0.501750</td>\n",
              "      <td>0.566972</td>\n",
              "      <td>0.209348</td>\n",
              "      <td>0.694529</td>\n",
              "      <td>0.288973</td>\n",
              "      <td>0.743119</td>\n",
              "      <td>0.005522</td>\n",
              "      <td>1.0</td>\n",
              "      <td>0.555262</td>\n",
              "      <td>0.667547</td>\n",
              "    </tr>\n",
              "    <tr>\n",
              "      <th>3</th>\n",
              "      <td>0.479099</td>\n",
              "      <td>0.668178</td>\n",
              "      <td>0.601778</td>\n",
              "      <td>0.540470</td>\n",
              "      <td>0.320988</td>\n",
              "      <td>0.769231</td>\n",
              "      <td>0.373040</td>\n",
              "      <td>0.464227</td>\n",
              "      <td>0.203505</td>\n",
              "      <td>0.708207</td>\n",
              "      <td>0.154626</td>\n",
              "      <td>0.889908</td>\n",
              "      <td>0.000552</td>\n",
              "      <td>1.0</td>\n",
              "      <td>0.555262</td>\n",
              "      <td>0.667547</td>\n",
              "    </tr>\n",
              "    <tr>\n",
              "      <th>4</th>\n",
              "      <td>0.544665</td>\n",
              "      <td>0.680076</td>\n",
              "      <td>0.594667</td>\n",
              "      <td>0.581022</td>\n",
              "      <td>0.277778</td>\n",
              "      <td>0.800000</td>\n",
              "      <td>0.399216</td>\n",
              "      <td>0.505554</td>\n",
              "      <td>0.148978</td>\n",
              "      <td>0.661094</td>\n",
              "      <td>0.226869</td>\n",
              "      <td>0.788991</td>\n",
              "      <td>0.154795</td>\n",
              "      <td>1.0</td>\n",
              "      <td>0.555262</td>\n",
              "      <td>0.667547</td>\n",
              "    </tr>\n",
              "  </tbody>\n",
              "</table>\n",
              "</div>"
            ],
            "text/plain": [
              "    ndvi_nw  reanalysis_air_temp_k  ...  season_cos  season_sin\n",
              "0  0.480161               0.509915  ...    0.555262    0.667547\n",
              "1  0.487299               0.507649  ...    0.555262    0.667547\n",
              "2  0.635401               0.637205  ...    0.555262    0.667547\n",
              "3  0.479099               0.668178  ...    0.555262    0.667547\n",
              "4  0.544665               0.680076  ...    0.555262    0.667547\n",
              "\n",
              "[5 rows x 16 columns]"
            ]
          },
          "metadata": {
            "tags": []
          },
          "execution_count": 28
        }
      ]
    },
    {
      "cell_type": "code",
      "metadata": {
        "id": "EbNugENHT1Vc",
        "colab": {
          "base_uri": "https://localhost:8080/",
          "height": 17
        },
        "outputId": "06a9aa93-da9f-4ce4-ba24-c55cc25dae38"
      },
      "source": [
        "# Predict over the test data\r\n",
        "y_pred = best_model.predict(X = New_X_test)\r\n",
        "\r\n",
        "# Round the result and cast to integer\r\n",
        "y = np.rint(y_pred)\r\n",
        "y = y.astype(int)\r\n",
        "res = np.hstack(y)\r\n",
        "\r\n",
        "# Generate output\r\n",
        "output = pd.DataFrame({ 'city': test_index.get_level_values(0), 'year': test_index.get_level_values(2), 'weekofyear': test_index.get_level_values(1), \r\n",
        "                       'total_cases': res})\r\n",
        "\r\n",
        "with open('result.csv', 'w') as f:\r\n",
        "  output.to_csv(f,  index = False)\r\n",
        "  \r\n",
        "files.download('result.csv')"
      ],
      "execution_count": null,
      "outputs": [
        {
          "output_type": "display_data",
          "data": {
            "application/javascript": [
              "\n",
              "    async function download(id, filename, size) {\n",
              "      if (!google.colab.kernel.accessAllowed) {\n",
              "        return;\n",
              "      }\n",
              "      const div = document.createElement('div');\n",
              "      const label = document.createElement('label');\n",
              "      label.textContent = `Downloading \"${filename}\": `;\n",
              "      div.appendChild(label);\n",
              "      const progress = document.createElement('progress');\n",
              "      progress.max = size;\n",
              "      div.appendChild(progress);\n",
              "      document.body.appendChild(div);\n",
              "\n",
              "      const buffers = [];\n",
              "      let downloaded = 0;\n",
              "\n",
              "      const channel = await google.colab.kernel.comms.open(id);\n",
              "      // Send a message to notify the kernel that we're ready.\n",
              "      channel.send({})\n",
              "\n",
              "      for await (const message of channel.messages) {\n",
              "        // Send a message to notify the kernel that we're ready.\n",
              "        channel.send({})\n",
              "        if (message.buffers) {\n",
              "          for (const buffer of message.buffers) {\n",
              "            buffers.push(buffer);\n",
              "            downloaded += buffer.byteLength;\n",
              "            progress.value = downloaded;\n",
              "          }\n",
              "        }\n",
              "      }\n",
              "      const blob = new Blob(buffers, {type: 'application/binary'});\n",
              "      const a = document.createElement('a');\n",
              "      a.href = window.URL.createObjectURL(blob);\n",
              "      a.download = filename;\n",
              "      div.appendChild(a);\n",
              "      a.click();\n",
              "      div.remove();\n",
              "    }\n",
              "  "
            ],
            "text/plain": [
              "<IPython.core.display.Javascript object>"
            ]
          },
          "metadata": {
            "tags": []
          }
        },
        {
          "output_type": "display_data",
          "data": {
            "application/javascript": [
              "download(\"download_89643e83-c6ab-447e-abc0-33ad97e20f3e\", \"result.csv\", 5670)"
            ],
            "text/plain": [
              "<IPython.core.display.Javascript object>"
            ]
          },
          "metadata": {
            "tags": []
          }
        }
      ]
    }
  ]
}